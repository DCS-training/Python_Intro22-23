{
  "nbformat": 4,
  "nbformat_minor": 0,
  "metadata": {
    "colab": {
      "provenance": [],
      "collapsed_sections": []
    },
    "kernelspec": {
      "name": "python3",
      "display_name": "Python 3"
    },
    "language_info": {
      "name": "python"
    }
  },
  "cells": [
    {
      "cell_type": "markdown",
      "source": [
        "# CDCS Introduction to Programming with Python\n",
        "Centre for Data Culture and Society (https://cdcs.ed.ac.uk/)\n",
        "\n",
        "Course prepared by Pedro Jacobetty (p.jacobetty@ed.ac.uk)\n",
        "\n",
        "---\n",
        "\n",
        "You can follow this tutorial on Google colab and execute all the code from your browser, so you don't need to install any software. You can read the tutorial at your own pace. To run any code in this tutorial, press the run button (play symbol) in the cells containing the code or click on the cell and press ctrl + return. The output of the cell will be displayed below the code.\n",
        "\n",
        "However, following this tutorial on your own commputer using Anaconda may be better. You can find more information here:\n",
        "\n",
        "Installl Anaconda - https://docs.anaconda.com/anaconda/install/\n",
        "\n",
        "Install modules in Anaconda - https://docs.anaconda.com/anaconda/user-guide/tasks/install-packages/"
      ],
      "metadata": {
        "id": "Ddqg-64eD9Ar"
      }
    },
    {
      "cell_type": "markdown",
      "source": [
        "# Usage of Python\n",
        "\n",
        "## Types of usage\n",
        "\n",
        "Python refers to the Python programming language (instructions, syntax, etc.) and the Python interpreter (an executable) that runs Python code. \n",
        "\n",
        "However, there are different ways to interact with the Python interpreter:\n",
        "\n",
        "- **Interpreter:** interactive shell, terminal-like command line interface (you type commands and press return)\n",
        "\n",
        "- **Scripting:** text file (script) that is executed by passing it to the interpreter, which executes the code inside and terminates when instructed to or the end of the file is reached.\n",
        "\n",
        "- **Integrated development environment (IDE):** more sophisticated coding environments (example: Spyder, Jupyter).\n",
        "\n",
        "## Screen output\n",
        "\n",
        "Python prints the output of every evaluated value when used in interactive mode.\n",
        "\n",
        "When used in scripts, you need to use the print function, as shown below:\n",
        "\n",
        "```\n",
        "print('Hello, world!')\n",
        "```\n",
        "\n",
        "**Example:** Assume that you have a script file \"test.py\" that contains a line with the above print instruction. You can run the script with Python from your operative system's command line:\n",
        "\n",
        "```\n",
        "$ python test.py <-- command (in Windows: C:\\> python test.py)\n",
        "Hello, world!    <-- output printed\n",
        "```\n",
        "\n",
        "Jupyter prints the last evaluated value in each cell (if other operations do not follow it) even if you have not used the `print` statement.\n",
        "\n",
        "To run a cell with Jupyer code, press the run button (play symbol) or press ctrl + return. You can also select some lines within a cell and press ctrl + shift + return to run only the selected lines.\n",
        "\n",
        "Spyder and other IDEs have a mixed behaviour: you can run the entire code as a script (only showing print statements), or you can select some lines of the code and run them (outputs evaluated variables). "
      ],
      "metadata": {
        "id": "NKdCXUTbpfHT"
      }
    },
    {
      "cell_type": "code",
      "source": [
        "# you can concatenate elements in the print function using a comma (adds a space between elements)\n",
        "print(\"Hello,\", \"world!\")\n",
        "\n",
        "# it's equivalent to \n",
        "print('Hello, world!')"
      ],
      "metadata": {
        "id": "ibtSMb9rXl0Y"
      },
      "execution_count": null,
      "outputs": []
    },
    {
      "cell_type": "markdown",
      "source": [
        "# Variables\n",
        "\n",
        "Variables link a value to a symbolic name (identifier) used to reference that value within a computer program. It works like a storage and labelling mechanism.\n",
        "\n",
        "An **assignment statement** follows the structure:\n",
        "\n",
        "`variable_name = 123`\n",
        "\n",
        "Reserved keywords (always lowercase) that cannot be used as variable names):\n",
        "\n",
        "|| | |\n",
        "|---|---|---|\n",
        "| and|exec|not|\n",
        "|assert|finally|or|\n",
        "|break|for|pass|\n",
        "|class|from|print|\n",
        "|continue|global|raise|\n",
        "|def|if|return|\n",
        "|del|import|try|\n",
        "|elif|in|while|\n",
        "|else|is|with|\n",
        "|except|lambda|yield|\n",
        "\n",
        "These keywords refer to in-built functionalities (some of them covered in this tutorial)."
      ],
      "metadata": {
        "id": "BRtXpB10WcXr"
      }
    },
    {
      "cell_type": "code",
      "source": [
        "# example - assigning a numeric (integer) variable\n",
        "my_int = 103204934813\n",
        "\n",
        "print(my_int)\n",
        "\n",
        "print(my_int - 813)\n",
        "\n",
        "# using simple arithmetic operations at the time of assignment\n",
        "x = 76 + 145\n",
        "\n",
        "print(x)"
      ],
      "metadata": {
        "id": "qZKLk-FmppvB"
      },
      "execution_count": null,
      "outputs": []
    },
    {
      "cell_type": "markdown",
      "source": [
        "The naming of variables is quite flexible, but there are some rules you need to keep in mind:\n",
        "\n",
        "* Variable names must only be one word (as in no spaces)\n",
        "* Variable names must be made up of only letters, numbers, and underscore (_)\n",
        "* Variable names cannot begin with a number\n",
        "\n",
        "As the word variable implies, variables can be changed: you can connect a different value to a previously assigned variable through reassignment."
      ],
      "metadata": {
        "id": "5EMqOw7gqOPA"
      }
    },
    {
      "cell_type": "code",
      "source": [
        "#Assign x to be an integer\n",
        "x = 76\n",
        "print(x)\n",
        "\n",
        "#Reassign x to be a string\n",
        "x = \"Sammy\"\n",
        "print(x)"
      ],
      "metadata": {
        "id": "DkU0SBZDqY6E"
      },
      "execution_count": null,
      "outputs": []
    },
    {
      "cell_type": "markdown",
      "source": [
        "# Simple data types\n",
        "\n",
        "Values and variables have a type. You don't need to make the type explicit, as each type is signalled in the assigned values themselves. We can use the `type()` function to see what type of value a variable holds. This section will cover the built-in simple data types in Python."
      ],
      "metadata": {
        "id": "9u9r0hKXgieM"
      }
    },
    {
      "cell_type": "markdown",
      "source": [
        "## Numeric data types: int, float, complex\n",
        "\n",
        "* If a value is expressed as simple numeric values, it is an integer (`int`) value. Example: 100.\n",
        "* If a value is expressed as a decimal number, it is a `float` value. Example: 100.0.\n",
        "* If a value contains the letter j, it is a `complex` value."
      ],
      "metadata": {
        "id": "mi_Ol6C1q1xC"
      }
    },
    {
      "cell_type": "code",
      "execution_count": null,
      "metadata": {
        "id": "iaHXL8CLDzkm"
      },
      "outputs": [],
      "source": [
        "# Variable creation (typically by assigning values to it)\n",
        "\n",
        "x = 1       # integer\n",
        "z = 1.0     # floating point\n",
        "\n",
        "# One can use variables instead of values\n",
        "\n",
        "print(\"x + 2 equals\", x+3)\n",
        "\n",
        "#create a variable with an integer value.\n",
        "a=100\n",
        "print(\"The type of variable having value\", a, \" is \", type(a))\n",
        "\n",
        "#create a variable with a float value.\n",
        "b=10.2345\n",
        "print(\"The type of variable having value\", b, \" is \", type(b))\n",
        "\n",
        "#create a variable with a complex value.\n",
        "c=100+3j\n",
        "print(\"The type of variable having value\", c, \" is \", type(c))\n",
        "\n",
        "# Multiple assignments\n",
        "x = y = z = 1\n",
        "print(\"Variables x, y, z:\", x, y, z)\n",
        "\n",
        "d, e, f = 1, \"test\", 1.0\n",
        "print(\"Variables d, e, f:\", d, e, f)"
      ]
    },
    {
      "cell_type": "markdown",
      "source": [
        "### Arithmetic operators\n",
        "\n",
        "|Operator|Name|Example|\n",
        "|---|---|---|\n",
        "|+|Addition|10 + 3 = 13|\n",
        "|-|Subtraction|10 - 3 = 7|\n",
        "|*|Multiplication|10 * 3 = 30|\n",
        "|/|Division|10 / 3 = 3.333...|\n",
        "|%|Modulus (remainder)|10 % 3 = 1|\n",
        "|**|Exponentiation|10 ** 3 = 1000|\n",
        "|//|Floor division (quotient, whole nr)|10 // 3 = 3|\n",
        "\n",
        "Parentheses `()` can be used for grouping.\n",
        "\n",
        "### Precedence of operators:\n",
        "\n",
        "\n",
        "|Order|Description|Operators|\n",
        "|---|---|---|\n",
        "|1|Parenthesis|()|\n",
        "|2|Exponentiation|**|\n",
        "|3|Compliment, unary plus and minus|~, +, -|\n",
        "|4|Multiply, Divide, modulo|*, /, %|\n",
        "|5|Addition and Subtraction|+, -|\n",
        "|6|Right and Left Shift|>>, <<|\n",
        "|7|Bitwise AND|&|\n",
        "|8|Bitwise OR and XOR|\\|, ^|\n",
        "|9|Comparison Operators|==, !=, >, <, >=, <=|\n",
        "|10|Assignment Operator|=|\n"
      ],
      "metadata": {
        "id": "tmUcRsiWTDST"
      }
    },
    {
      "cell_type": "code",
      "source": [
        "# Example of chained arithmetic operators \n",
        "10 * (3 + 5)  "
      ],
      "metadata": {
        "id": "RgUmGdx8VRnx"
      },
      "execution_count": null,
      "outputs": []
    },
    {
      "cell_type": "markdown",
      "source": [
        "### Arithmetic at the time of assignment\n",
        "\n",
        "Operations can be done at the time of assignment \n",
        "\n",
        "|Operator|Description|\n",
        "|---|---|\n",
        "|+=|a+=b is equivalent to a=a+b|\n",
        "|*=|a*=b is equivalent to a=a*b|\n",
        "|/=|a/=b is equivalent to a=a/b|\n",
        "|%=|a%=b is equivalent to a=a%b|\n",
        "|**=|a**=b is equivalent to a=a**b (exponent operator)|\n",
        "|//=|a//=b is equivalent to a=a//b (floor division)|"
      ],
      "metadata": {
        "id": "6Oyz7f3tnwoV"
      }
    },
    {
      "cell_type": "code",
      "source": [
        "# take two variables, assign values with assignment operators\n",
        "a=3\n",
        "b=4\n",
        "print(\"Original variables\")\n",
        "print(\"a =\", a)\n",
        "print(\"b =\", b)\n",
        "\n",
        "print()\n",
        "print(\"Assignment operations on variable a (variable b remains unchanged)\")\n",
        "\n",
        "print(\"a+=b (a=a+b):\")\n",
        "a+=b\n",
        "print(\"a =\", a)\n",
        "\n",
        "print(\"a*=b (a=a*b):\")\n",
        "a*=b\n",
        "print(\"a =\", a)\n",
        "\n",
        "print(\"a/=b (a=a/b):\")\n",
        "a/=b\n",
        "print(\"a =\", a)\n",
        "\n",
        "print(\"a%=b (a=a%b):\")\n",
        "a%=b\n",
        "print(\"a =\", a)"
      ],
      "metadata": {
        "id": "B20ejR11nwzP"
      },
      "execution_count": null,
      "outputs": []
    },
    {
      "cell_type": "markdown",
      "source": [
        "## String data types: str\n",
        "\n",
        "The string is a sequence of characters (Python supports Unicode), generally represented by single or double quotes. \n",
        "\n",
        "\n",
        "\n",
        "`\n",
        "'this is a string'\n",
        "`\n",
        "\n",
        "`\n",
        "\"this is also a string\"\n",
        "`\n",
        "\n",
        "\n",
        "\n",
        "New lines are usually expressed using the new line character `\\n`.\n",
        "\n",
        "Multiple line strings can be expressed with new lines, demarcated by three quotes:\n",
        "\n",
        "``` \n",
        "''' Multiple\n",
        "Line\n",
        "String '''\n",
        "```\n",
        "\n"
      ],
      "metadata": {
        "id": "605GaLrDnSuC"
      }
    },
    {
      "cell_type": "code",
      "source": [
        "a = \"string in a double quote\"\n",
        "b= 'string in a single quote'\n",
        "print(a)\n",
        "print(b)\n",
        "print()\n",
        "\n",
        "#using '+' to concatenate the two or several strings\n",
        "print(a+\" concatenated with \"+b)\n",
        "print()\n"
      ],
      "metadata": {
        "id": "TgsiWJ66naVB"
      },
      "execution_count": null,
      "outputs": []
    },
    {
      "cell_type": "code",
      "source": [
        "# string with new lines\n",
        "\n",
        "y = 'Learning Python is fun.\\nPython can be used interactively and to run scripts.\\nThe syntax is also quite pretty!'\n",
        "print(y)\n",
        "print()\n",
        "\n",
        "# multiple line string (equivalent)\n",
        "y = '''Learning Python is fun.\n",
        "Python can be used interactively and to run scripts.\n",
        "The syntax is also quite pretty!'''\n",
        "print(y)\n",
        "print()"
      ],
      "metadata": {
        "id": "XwwBqXemjA1t"
      },
      "execution_count": null,
      "outputs": []
    },
    {
      "cell_type": "code",
      "source": [
        "# You cannot use the + to concatenate strings and other data types\n",
        "w = \"1\"     # string\n",
        "x = 2\n",
        "\n",
        "# this works\n",
        "print(w + str(x))\n",
        "\n",
        "print(\"The following command raises an exception (i.e., error) as it tries to concatenate a string and another data type\")\n",
        "#this will throw an error (exception)\n",
        "w = \"1\"     # string\n",
        "w+1 # this throws an error"
      ],
      "metadata": {
        "id": "sXvPwnPrjEOm"
      },
      "execution_count": null,
      "outputs": []
    },
    {
      "cell_type": "markdown",
      "source": [
        "### String Slicing \n",
        "\n",
        "String slicing creates a new substring from the source string.\n",
        "\n",
        "Syntax:\n",
        "\n",
        "`str_object[start_pos:end_pos:step]`\n",
        "\n",
        "The slicing starts with the start_pos index (included) and ends at end_pos index (excluded). The (optional) step parameter is used to specify the steps to take from start to end index. In Python, slicing indexes start with 0 (the first position has index `0`,the third position index `2`).\n",
        "\n",
        "Omitting the start position will slice from the start, omitting the end position will slice to the end, and omitting the step will use step=1."
      ],
      "metadata": {
        "id": "Anh_EPAji_1C"
      }
    },
    {
      "cell_type": "code",
      "source": [
        "# Examples\n",
        "\n",
        "s = 'HelloWorld'\n",
        "\n",
        "# Since none of the slicing parameters was provided, the substring is equal to the original string.\n",
        "print(s[:])\n",
        "print(s[::])\n",
        "\n",
        "print()\n",
        "# More examples of slicing a string.\n",
        "s = 'HelloWorld'\n",
        "first_five_chars = s[:5]\n",
        "print(first_five_chars)\n",
        "\n",
        "third_to_fifth_chars = s[2:5]\n",
        "print(third_to_fifth_chars)\n"
      ],
      "metadata": {
        "id": "Y0JR3_Eaju4F"
      },
      "execution_count": null,
      "outputs": []
    },
    {
      "cell_type": "markdown",
      "source": [
        "### String functions\n",
        "\n",
        "Python provides built-in functions to manipulate strings. Strings are immutable, so these functions return a new string (the original string remains unchanged).\n",
        "\n",
        "Some useful string functions:\n",
        "\n",
        "|Method|Description|\n",
        "|---|---|\n",
        "|`split()`|Python string split() function is used to split a string into a list of strings based on a delimiter.|\n",
        "|`join()`|This function returns a new string that is the concatenation of the strings in iterable with string object as a delimiter.|\n",
        "|`strip()`|Used to trim whitespaces from the string object.|\n",
        "|`upper()`|We can convert a string to uppercase in Python using str.upper() function.|\n",
        "|`lower()`|This function creates a new string in lowercase.|\n",
        "|`replace()`|Python string replace() function is used to create a new string by replacing some parts of another string.|\n",
        "|`find()`|Python String find() method is used to find the index of a substring in a string.|\n",
        "|`count()`|Python String count() function returns the number of occurrences of a substring in the given string.|\n",
        "|`startswith()`|Python string startswith() function returns True if the string starts with the given prefix, otherwise it returns False.|\n",
        "|`endswith()`|Python string endswith() function returns True if the string ends with the given suffix, otherwise it returns False.|\n",
        "|`splitlines()`|Python String splitlines() function returns the list of lines in the string.|"
      ],
      "metadata": {
        "id": "S-cSj32Gg0TF"
      }
    },
    {
      "cell_type": "code",
      "source": [
        "#examples \n",
        "\n",
        "s = \"This is a multiline\\nstring\"\n",
        "\n",
        "print(\"original string:\")\n",
        "print(s)\n",
        "print()\n",
        "print(\"split:\", s.split())\n",
        "\n",
        "print(\"splitlines:\", s.splitlines())\n",
        "\n",
        "print()\n",
        "\n",
        "print(\"Uppercase:\", s.upper())\n",
        "\n",
        "print()\n",
        "print(\"Find the index of 'i' (remember, Python starts counting at 0):\", s.find(\"i\"))\n"
      ],
      "metadata": {
        "id": "Suxz4p-lh_hr"
      },
      "execution_count": null,
      "outputs": []
    },
    {
      "cell_type": "markdown",
      "source": [
        "## Boolean type: bool\n",
        "\n",
        "Boolean data represent truth values (mathematical logic) and can take two values: `True` or `False`. They start with a capitalized letter and are special values in Python.\n",
        "\n",
        "Many operations evaluate to either `True` or `False`. An example is comparisons. \n",
        "\n",
        "### Comparison operators\n",
        "\n",
        "Here are the Boolean comparison operators used in Python:\n",
        "\n",
        "|Operator|What it means|\n",
        "|---|---|\n",
        "|==|Equal to|\n",
        "|!=|Not equal to|\n",
        "|<|Less than|\n",
        "|>|Greater than|\n",
        "|<=|Less than or equal to|\n",
        "|>=|Greater than or equal to|"
      ],
      "metadata": {
        "id": "iVpjtdCjnapg"
      }
    },
    {
      "cell_type": "code",
      "source": [
        "# numeric comparison\n",
        "\n",
        "x = 5\n",
        "y = 8\n",
        "\n",
        "print(\"x == y:\", x == y)\n",
        "print(\"x != y:\", x != y)\n",
        "print(\"x < y:\", x < y)\n",
        "print(\"x > y:\", x > y)\n",
        "print(\"x <= y:\", x <= y)\n",
        "print(\"x >= y:\", x >= y)\n",
        "\n",
        "# string comparison\n",
        "\n",
        "Sammy = \"Sammy\"\n",
        "sammy = \"sammy\"\n",
        "\n",
        "print(\"Sammy == sammy: \", Sammy == sammy)\n",
        "\n",
        "# boolean comparison\n",
        "\n",
        "t = True\n",
        "f = False\n",
        "\n",
        "print(\"t != f: \", t != f)"
      ],
      "metadata": {
        "id": "6d8g0rTDY_CC"
      },
      "execution_count": null,
      "outputs": []
    },
    {
      "cell_type": "markdown",
      "source": [
        "### Logical operators\n",
        "\n",
        "Logical operators compare values and evaluate expressions to Boolean values (returning either `True` or `False`). They are typically used to evaluate two or more logical expressions. \n",
        "\n",
        "|Operator|What it means|Example|\n",
        "|---|---|---|\n",
        "|and|`True` if both are `True`; at least one `False` expression evaluates to `False`|x and y|\n",
        "|or|`True` if at least one is `True`; both expressions `False` evaluate to `False`|x or y|\n",
        "|not|`True` only if the expression is `False` and viceversa|not x|\n",
        "\n"
      ],
      "metadata": {
        "id": "vP6a0b66ch3S"
      }
    },
    {
      "cell_type": "code",
      "source": [
        "print((9 > 7) and (2 < 4))\t# Both original expressions are True\n",
        "print((8 == 8) or (6 != 6))\t# One original expression is True\n",
        "print(3 <= 1)\t\t\t# The original expression is False\n",
        "print(not 3 <= 1)\t\t\t# The original expression after the not is False\n",
        "\n",
        "# compound expressions\n",
        "not((-0.2 > 1.4) and ((0.8 < 3.1) or (0.1 == 0.1)))"
      ],
      "metadata": {
        "id": "z9oE1ZnrcgJm"
      },
      "execution_count": null,
      "outputs": []
    },
    {
      "cell_type": "markdown",
      "source": [
        "### Membership Operators\n",
        "\n",
        "Membership operators are used to test for membership in an order (string, lists, or tuples).\n",
        "\n",
        "The `in` operator checks whether a value is present in a sequence or not (returning `True` or `False`).\n",
        "\n",
        "The `not in` operator is a simple inversion of `in` (returns `False` if the value is present, `True` if it is not)."
      ],
      "metadata": {
        "id": "7IcdvpEJj-e6"
      }
    },
    {
      "cell_type": "code",
      "source": [
        "# example of the \"in\" operator \n",
        "#test if a given value is present in a list\n",
        "\n",
        "list1=[0,2,4,6,8]\n",
        "\n",
        "print(\"list1:\", list1)\n",
        "print()\n",
        "\n",
        "value = 1\n",
        "\n",
        "print(\"Is value\", value, \"'in' list1?\")\n",
        "print(value in list1)\n",
        "print()\n",
        "\n",
        "# example of the \"not in\" operator \n",
        "#test if a given value is present in a list\n",
        "\n",
        "value = 2\n",
        "\n",
        "print(\"Is value\", value, \"'not in' list1?\")\n",
        "print(value not in list1)"
      ],
      "metadata": {
        "id": "k21saHqqkC3m"
      },
      "execution_count": null,
      "outputs": []
    },
    {
      "cell_type": "markdown",
      "source": [
        "# Complex data types \n",
        "\n"
      ],
      "metadata": {
        "id": "4LscrtusZHDe"
      }
    },
    {
      "cell_type": "markdown",
      "source": [
        "## Sequence data types"
      ],
      "metadata": {
        "id": "-nSBSklRPaYG"
      }
    },
    {
      "cell_type": "markdown",
      "source": [
        "\n",
        "### Lists\n",
        "\n",
        "A list is a mutable (changeable), ordered sequence of values (items). Lists are expressed by comma-separated values between square brackets `[]` (just as strings are expressed as characters between quotes).\n",
        "\n",
        "Lists are useful to work with many related values, keep them together, condense code, and perform the same operations on multiple values at once.\n",
        "\n",
        "Empty lists are expressed as:\n",
        "\n",
        "`empty_lists = []`\n",
        "\n",
        "A list of integers looks like this:\n",
        "\n",
        "`[-3, -2, -1, 0, 1, 2, 3]`\n",
        "\n",
        "A list of floats looks like this:\n",
        "\n",
        "`[3.14, 9.23, 111.11, 312.12, 1.05]`\n",
        "\n",
        "A list of strings:\n",
        "\n",
        "`['shark', 'cuttlefish', 'squid', 'mantis shrimp']`\n",
        "\n",
        "If we define our string list as sea_creatures:\n",
        "\n",
        "`sea_creatures = ['shark', 'cuttlefish', 'squid', 'mantis shrimp', 'anemone']`\n",
        "\n",
        "Lists are mutable: they can have values added, removed, and changed.\n",
        "\n",
        "The `len()` built-in function outputs the length (number of items) in the list."
      ],
      "metadata": {
        "id": "VWhk8mfjrFUg"
      }
    },
    {
      "cell_type": "code",
      "source": [
        "# working with lists\n",
        "sea_creatures = ['shark', 'cuttlefish', 'squid', 'mantis shrimp', 'anemone']\n",
        "print(sea_creatures)\n",
        "\n",
        "# list length\n",
        "print(\"number of items in the list:\", len(sea_creatures))"
      ],
      "metadata": {
        "id": "tLpOGYAncco0"
      },
      "execution_count": null,
      "outputs": []
    },
    {
      "cell_type": "markdown",
      "source": [
        "#### Indexing lists\n",
        "\n",
        "Each list item corresponds to an index number, an integer value, starting with the index number 0.\n",
        "\n",
        "For the list sea_creatures, the index breakdown looks like this:\n",
        "\n",
        "|Item|Index|\n",
        "|---|---|\n",
        "|‘shark’|0|\n",
        "|‘cuttlefish’|1|\n",
        "|‘squid’|2|\n",
        "|‘mantis shrimp’|3|\n",
        "|‘anemone’|4|\n",
        "\n",
        "The first item starts at index 0, and the list ends at index 4.\n",
        "\n",
        "We’re able to access and manipulate discrete items in lists by referring to their index number. \n",
        "\n",
        "To access the first element, you need to enter a 0 as an index between the brackets directly added after the variable name. To find the second element of the list, use the following syntax:\n",
        "\n",
        "```\n",
        ">>> sea_creatures[1] \n",
        "‘cuttlefish’\n",
        "```\n",
        "\n",
        "The last element is at index `len(list_variable)-1`. However, you can use negative indices instead: the index `-1` will return the last element of a list, the index `-2` returns the second-last element, and so on.\n",
        "\n",
        "So the expression `sea_creatures[-1]` is equivalent to `sea_creatures[len(list_variable)-1]`, which is equivalent to `sea_creatures[4]`.\n",
        "\n",
        "Examples:"
      ],
      "metadata": {
        "id": "fZIvYavbdVJh"
      }
    },
    {
      "cell_type": "code",
      "source": [
        "print(\"last item in sea_creatures:\", sea_creatures[-1])\n",
        "print(\"second-last item in sea_creatures:\", sea_creatures[-2])"
      ],
      "metadata": {
        "id": "lHQ0BxOti31_"
      },
      "execution_count": null,
      "outputs": []
    },
    {
      "cell_type": "markdown",
      "source": [
        "#### List Slicing\n",
        "\n",
        "The square bracket operators (`[`and `]`) are also useful for list slicing, returning a sub-list (a part of the original list). "
      ],
      "metadata": {
        "id": "xVkiI1IVNSOX"
      }
    },
    {
      "cell_type": "code",
      "source": [
        "# To make the examples a bit easier to comprehend, we will declare a list 'i', \n",
        "# in which elements have the same value as the index:\n",
        "\n",
        "i = [0, 1, 2, 3, 4, 5, 6, 7, 8, 9, 10, 11, 12, 13, 14, 16, 17, 18, 19]\n",
        "\n",
        "# If we now want to slice out the list [4, 5, 6, 7, 8] we enter the following:\n",
        "\n",
        "print(\"i[4:9] evaluates to\", i[4:9])\n",
        "print()\n",
        "\n",
        "# The first index (here 4) is the start index. \n",
        "# From this index on, all elements are returned before the second index (here 9). \n",
        "\n",
        "# If you want a list starting from a certain index until the end of the list, you don’t enter a second index:\n",
        "\n",
        "print(\"i[13:] evaluates to\", i[13:])\n",
        "print()\n",
        "\n",
        "# If you want a list from the beginning up to a certain index, don’t enter the first index:\n",
        "\n",
        "print( \"i[:7] evaluates to\", i[:7])\n",
        "print()\n",
        "\n",
        "# To only get every n-th element of a list with list slicing by adding another colon `:` \n",
        "# and indicating the *step* width. \n",
        "# If you only want every 3rd element of the sub-list i[5:18] \n",
        "#use the following:\n",
        "\n",
        "print(\"i[5:18:3] evaluates to\", i[5:18:3])\n",
        "print()\n",
        "\n",
        "#Leave out the first and second index (or both) if the start/end of your sub-list \n",
        "# should be the start/end of the original list:\n",
        "print(\"i[::3] evaluates to\", i[::3])\n"
      ],
      "metadata": {
        "id": "9J-WHGGANR6A"
      },
      "execution_count": null,
      "outputs": []
    },
    {
      "cell_type": "markdown",
      "source": [
        "### Tuple\n",
        "\n",
        "A tuple data structure is similar to a list, an ordered sequence of elements. The main difference is that a tuple is immutable (unchangeable): its values cannot be modified.\n",
        "\n",
        "Tuples are expressed as comma-separated items surrounded by parentheses: `()`.\n",
        "\n",
        "Empty tuples are expressed as:\n",
        "\n",
        "`empty_tuple = ()`\n",
        "\n",
        "However, unlike lists, tuples with a single value must use a comma:\n",
        "\n",
        "`coral = ('blue coral',)`.\n",
        "\n",
        "Elements in tuples can be accessed using the square bracket slicing notation used for strings."
      ],
      "metadata": {
        "id": "oaiH8k--n2xa"
      }
    },
    {
      "cell_type": "code",
      "source": [
        "#The following is an example tuple that consists of four elements:\n",
        "coral = ('blue coral', 'staghorn coral', 'pillar coral', 'elkhorn coral')\n",
        "\n",
        "coral[1]"
      ],
      "metadata": {
        "id": "2_5hBSA3UFW0"
      },
      "execution_count": null,
      "outputs": []
    },
    {
      "cell_type": "markdown",
      "source": [
        "\n",
        "Because tuples are immutable, they are used when there won't be any changes to the sequence of values. This means your code can be optimized: code using tuples will run slightly faster than the same code using lists."
      ],
      "metadata": {
        "id": "UwZ4UQXsU0hs"
      }
    },
    {
      "cell_type": "markdown",
      "source": [
        "### Range\n",
        "\n",
        "The `range()` function returns an immutable sequence of numbers. Like list slicing, it takes a *starting position* (0 by default), a specified *stop position* and a *step* (1 by default).\n",
        "\n",
        "You can omit the start position, the step, or both, but the stop position must be specified.\n",
        "\n",
        "Syntax:\n",
        "\n",
        "```\n",
        "range(stop) \n",
        "range(start, stop[, step])\n",
        "```\n",
        "\n",
        "The `range()` function also works with a negative step value.\n",
        "\n",
        "The `range()` function produces numbers *lazily*: numbers are not returned in a batch but one at a time, as needed. This saves the memory required for big lists."
      ],
      "metadata": {
        "id": "Hiw16JPRPisK"
      }
    },
    {
      "cell_type": "code",
      "source": [
        "# In order to access the whole sequence, you need to use list() or tuple()\n",
        "\n",
        "print(range(10)) # won't print the sequence\n",
        "print(tuple(range(10))) # will print the sequence\n",
        "\n",
        "print(tuple(range(0, 30, 5)))\n",
        "\n",
        "print(tuple(range(0, -10, -1)))"
      ],
      "metadata": {
        "id": "DlNsy_TVW-x2"
      },
      "execution_count": null,
      "outputs": []
    },
    {
      "cell_type": "markdown",
      "source": [
        "## Set data types: set & frozenset\n"
      ],
      "metadata": {
        "id": "3FIXqAhYPp6g"
      }
    },
    {
      "cell_type": "markdown",
      "source": [
        "\n",
        "### Set\n",
        "\n",
        "A set is an unordered collection of unique elements, which is mutable (elements can be added to or deleted from it). Like other sequences, one set can contain items of multiple data types.\n",
        "\n",
        "As a collection of unique items, it will discard all repeated items, both those expressed at the time of initialization and those added later.\n",
        "\n",
        "To initialize a set:\n",
        "\n",
        "* use `set()`:\n",
        " * enter a sequence (e.g. list, tuple) as arguments: `set_var = set([1,2])`\n",
        " * to create an empty set: `empty_set = set()`\n",
        "* place items within curly brackets: `set_vat = {1,2}`"
      ],
      "metadata": {
        "id": "vnxFvIcc859R"
      }
    },
    {
      "cell_type": "code",
      "source": [
        "#set containing single data-type\n",
        "set1 = {1, 2, 3, 4, 2, 3, 1}\n",
        "print(\"set1:\", set1)\n",
        "\n",
        "#set containing multiple data-type\n",
        "set2 = {1, 2, 3, (1, 2, 3), 2.45, \"Python\", 2, 3}\n",
        "print(\"set2:\", set2)\n",
        "\n",
        "#creating a set from a list\n",
        "theList = [1, 2, 3, 4, 2, 3, 1]\n",
        "set3 = set(theList)\n",
        "print(\"set3:\", set3)"
      ],
      "metadata": {
        "id": "Ok5fKNHLjr72"
      },
      "execution_count": null,
      "outputs": []
    },
    {
      "cell_type": "markdown",
      "source": [
        "To add a single element to a set, use the `add()` function. \n",
        "\n",
        "To add iterable elements (e.g. list or set), use the `update()` function. "
      ],
      "metadata": {
        "id": "4vhlqFnNlbNl"
      }
    },
    {
      "cell_type": "code",
      "source": [
        "#initialize an empty set\n",
        "theSet = set()\n",
        "\n",
        "#add a single element using add() function\n",
        "theSet.add(1)\n",
        "theSet.add(2)\n",
        "theSet.add(3)\n",
        "theSet.add(2)\n",
        "#add another data-type\n",
        "theSet.add('hello')\n",
        "print(theSet)\n",
        "\n",
        "#add iterable elements using update() function\n",
        "theSet.update([1,2,4,'hello','world']) #list as iterable element\n",
        "theSet.update({1,2,5}) #set as iterable element\n",
        "print(theSet)\n"
      ],
      "metadata": {
        "id": "Wlto_2NRltlQ"
      },
      "execution_count": null,
      "outputs": []
    },
    {
      "cell_type": "markdown",
      "source": [
        "To remove elements from a set, use the `remove()` and `discard()` functions. \n",
        "\n",
        "The `remove()` function will raise an exception for attempts to remove an item which is not in the set, the `discard()` function will not."
      ],
      "metadata": {
        "id": "BUcrPQnFmWXk"
      }
    },
    {
      "cell_type": "code",
      "source": [
        "theSet = {1,2,3,4,5,6}\n",
        "print(\"original set:\", theSet)\n",
        "\n",
        "#remove 3 using discard() function\n",
        "theSet.discard(3)\n",
        "print(\"discarding 3:\", theSet)\n",
        "\n",
        "#call discard() function again to remove 3\n",
        "theSet.discard(3) #This won't raise any exception\n",
        "print(\"discarding 3 again:\", theSet)\n",
        "\n",
        "#call remove() function to remove 5\n",
        "theSet.remove(5)\n",
        "print(\"removing 5:\", theSet)\n",
        "\n",
        "#call remove() function to remove 5 again\n",
        "theSet.remove(5) #this would raise exception as 5 is no longer in the set\n",
        "print(\"removing 5 again:\", theSet) #this won't be printed"
      ],
      "metadata": {
        "id": "HHQskdySmwYT"
      },
      "execution_count": null,
      "outputs": []
    },
    {
      "cell_type": "markdown",
      "source": [
        "### Frozenset\n",
        "\n",
        "The `frozenset()` method is an inbuilt function that converts an iterable object into an immutable unordered collection of unique elements.\n",
        "\n",
        "The function takes one optional parameter, an iterable object (i.e., `list`, `tuple`, `range`).\n",
        "\n",
        "Syntax:\n",
        "\n",
        "```\n",
        "frozenset_var = frozenset([iterable_object])\n",
        "```\n",
        "\n",
        "The resulting value is an immutable iterable object."
      ],
      "metadata": {
        "id": "0LscnWFj8-Qk"
      }
    },
    {
      "cell_type": "code",
      "source": [
        "# no parameter (empty frozen set)\n",
        "f_set0 = frozenset()\n",
        "print('f_set0 (frozen set with no parameter, an empty frozen set):', f_set0)\n",
        "\n",
        "# set of integers\n",
        "integers = {1, 2, 3, 4, 5}\n",
        "\n",
        "f_set1 = frozenset(integers)\n",
        "print('f_set1 (frozen set of 5 integers):', f_set1)\n",
        "\n",
        "# this command will raise an exception (cannot add items to a frozen set)\n",
        "f_set1.add(10)"
      ],
      "metadata": {
        "id": "ay0fygCe-aQA"
      },
      "execution_count": null,
      "outputs": []
    },
    {
      "cell_type": "markdown",
      "source": [
        "## Mapping data type: dictionary\n",
        "\n",
        "Dictionaries map *keys* to *values*, storing *key-value pairs*.\n",
        "\n",
        "Dictionaries are expressed using curly braces on either side `{ }`, containing comma-separated key-value pairs. Those pairs are expressed using colons (`:`) and follow the `key: value` structure.\n",
        "\n",
        "Example:\n",
        "\n",
        "`user1 = {'username': 'python-shark', 'online': True, 'followers': 597}`\n",
        "\n",
        "Keys can be any immutable data type. Values can be comprised of any data type. \n",
        "\n",
        "The keys in the dictionary above are:\n",
        "\n",
        "    'username'\n",
        "    'online'\n",
        "    'followers'\n",
        "\n",
        "Each of the keys in the above example are strings."
      ],
      "metadata": {
        "id": "BA1Q5LZ-Plds"
      }
    },
    {
      "cell_type": "code",
      "source": [
        "user1 = {'username': 'python-shark', 'online': True, 'followers': 597}\n",
        "print(user1)"
      ],
      "metadata": {
        "id": "xsKYnu0SzTJG"
      },
      "execution_count": null,
      "outputs": []
    },
    {
      "cell_type": "markdown",
      "source": [
        "Values of a dictionary can be called using the related keys."
      ],
      "metadata": {
        "id": "IRQCOfIJzhD9"
      }
    },
    {
      "cell_type": "code",
      "source": [
        "# to retrieve user1's username: user1[\"username\"]\n",
        "print(user1[\"username\"])\n",
        "\n",
        "# user1's followers\n",
        "print(user1[\"followers\"])"
      ],
      "metadata": {
        "id": "Sa9g9LYOzxF6"
      },
      "execution_count": null,
      "outputs": []
    },
    {
      "cell_type": "markdown",
      "source": [
        "Dictionaries also have useful built-in methods:\n",
        "\n",
        "* `dict.keys()` returns keys\n",
        "* `dict.values()` returns values\n",
        "* `dict.items()` returns items in a list of (key, value) tuple pairs"
      ],
      "metadata": {
        "id": "joA32W_J0ZTV"
      }
    },
    {
      "cell_type": "code",
      "source": [
        "print(user1.keys())\n",
        "print(user1.values())\n",
        "print(user1.items())"
      ],
      "metadata": {
        "id": "FlNgnO5M0xuE"
      },
      "execution_count": null,
      "outputs": []
    },
    {
      "cell_type": "markdown",
      "source": [
        "Dictionaries are mutable data structures, they can be modified.\n",
        "\n",
        "To add or modify key-value pairs, use the following syntax:\n",
        "\n",
        "`dict[key] = value`"
      ],
      "metadata": {
        "id": "2yOqH91f4Qbg"
      }
    },
    {
      "cell_type": "code",
      "source": [
        "usernames = {'Sammy': 'sammy-shark', 'Jamie': 'mantisshrimp54'}\n",
        "print(\"original usernames dict:\")\n",
        "print(usernames)\n",
        "\n",
        "# adding a new key and value\n",
        "usernames['Drew'] = 'squidly'\n",
        "print(\"new key-value pair:\")\n",
        "print(usernames)\n",
        "print()\n",
        "\n",
        "# modifying the value assigned to a key\n",
        "drew = {'username': 'squidly', 'online': True, 'followers': 305}\n",
        "print(\"original drew dict\")\n",
        "print(drew)\n",
        "print(\"updated value:\")\n",
        "drew['followers'] = 342\n",
        "print(drew)"
      ],
      "metadata": {
        "id": "ZfS3eRA74f7K"
      },
      "execution_count": null,
      "outputs": []
    },
    {
      "cell_type": "markdown",
      "source": [
        "To remove a key-value pair from a dictionary, we’ll use the following syntax:\n",
        "\n",
        "`del dict[key]`\n",
        "\n",
        "To clear a dictionary of all of its values, use the `dict.clear()` method (which will keep the empty dictionary).\n",
        "\n",
        "\n",
        "To remove the dictionary entirely, use:\n",
        "\n",
        "`del dict`"
      ],
      "metadata": {
        "id": "zvMqo1p24gXh"
      }
    },
    {
      "cell_type": "code",
      "source": [
        "jesse = {'username': 'JOctopus', 'online': False, 'points': 723, 'followers': 481}\n",
        "print(\"original dictionary:\")\n",
        "print(jesse)\n",
        "print()\n",
        "\n",
        "\n",
        "# remove a key-value pair\n",
        "del jesse['points']\n",
        "print(\"removing 'points':\")\n",
        "print(jesse)\n",
        "print()\n",
        "\n",
        "# removing all items\n",
        "jesse.clear()\n",
        "print(\"clearing the dictionary:\")\n",
        "print(jesse)\n",
        "\n",
        "# deleting it entirely\n",
        "del jesse\n",
        "print(\"after deleting the dictionary, calling it will raise an exception:\")\n",
        "print(jesse)"
      ],
      "metadata": {
        "id": "fyRw2_yg63dN"
      },
      "execution_count": null,
      "outputs": []
    },
    {
      "cell_type": "markdown",
      "source": [
        "# Simple input\n",
        "\n",
        "To get user input, we can use the `input()` function. The program will wait indefinitely for the user input. Once the user provides the input data and presses the enter key, the program will start executing the next statements.\n"
      ],
      "metadata": {
        "id": "mokOzFkzwdEj"
      }
    },
    {
      "cell_type": "code",
      "source": [
        "name = input('Let us wait for user input. What is your name?\\n')\n",
        "print('Hello,', name)\n",
        "\n"
      ],
      "metadata": {
        "id": "pB-5zvHIw_Ui"
      },
      "execution_count": null,
      "outputs": []
    },
    {
      "cell_type": "markdown",
      "source": [
        "the `input()` function differs from the normal variable assignment in the sense that typing in a number or a float will always result in a string.\n",
        "\n",
        "This means that non-string inputs must be explicitly transformed:"
      ],
      "metadata": {
        "id": "od6lRNakAYN5"
      }
    },
    {
      "cell_type": "code",
      "source": [
        "# we convert the input to a float\n",
        "# this code will raise an exception if the input is not numeric\n",
        "number = float(input(\"Type in any number:\"))\n",
        "print(\"If you add 10 to the number, the result is\", 10 + number)\n",
        "\n",
        "# number will be of type str \n",
        "# this code will raise an exception EVEN if the input is numeric\n",
        "number = input(\"Type in any number:\")\n",
        "print(\"If you add 10 to the number, the result is\", 10 + number)\n"
      ],
      "metadata": {
        "id": "fDFIZh1KAobD"
      },
      "execution_count": null,
      "outputs": []
    },
    {
      "cell_type": "markdown",
      "source": [
        "# Modules\n",
        "\n",
        "Modules are script files that can contain variables, functions, and classes. These can be imported and referenced in our own code."
      ],
      "metadata": {
        "id": "3p-MB1-o_nt5"
      }
    },
    {
      "cell_type": "code",
      "source": [
        "# example: random module\n",
        "import random\n",
        "\n",
        "# first random number between 0 and 9\n",
        "num = random.choice(range(10))\n",
        "print(num)\n",
        "\n",
        "# second random number between 0 and 9\n",
        "num = random.choice(range(10))\n",
        "print(num)"
      ],
      "metadata": {
        "id": "VOtEl6RLAEs_"
      },
      "execution_count": null,
      "outputs": []
    },
    {
      "cell_type": "markdown",
      "source": [
        "For more concise function calls, the import can be renamed: "
      ],
      "metadata": {
        "id": "FKiT1u-VAell"
      }
    },
    {
      "cell_type": "code",
      "source": [
        "# example: random module\n",
        "import random as rnd\n",
        "\n",
        "# first random number between 0 and 9\n",
        "num = rnd.choice(range(10))\n",
        "print(num)\n",
        "\n",
        "# second random number between 0 and 9\n",
        "num = rnd.choice(range(10))\n",
        "print(num)"
      ],
      "metadata": {
        "id": "OihrlOqyArdX"
      },
      "execution_count": null,
      "outputs": []
    },
    {
      "cell_type": "markdown",
      "source": [
        "\n",
        "# Flow control\n",
        "\n",
        "If, else, while, for, \n",
        "\n",
        "Indentation (recommended - four spaces)\n"
      ],
      "metadata": {
        "id": "nh1UKNg_J_pJ"
      }
    },
    {
      "cell_type": "markdown",
      "source": [
        "## Indentation\n",
        "\n",
        "In order to control flow, block codes after the flow control statements covered in the next sections are indented. \n",
        "\n",
        "Convention says indentation should use four white spaces for indentation.\n",
        "\n",
        "```\n",
        "non-indented code:\n",
        "    line1 of indented code block\n",
        "    line2 of indented code block\n",
        "more non-indented code\n",
        "```\n",
        "\n",
        "The blocks are defined through line indentation:\n",
        "* a block begins when indentation increases\n",
        "* blocks can contain other blocks (further indented)\n",
        "* a block ends when the indentation decreases:\n",
        " * to zero or \n",
        "  * to a containing block’s indentation\n",
        "\n",
        "Spacing should be even and uniform throughout the code. Improper indentation will cause an `IndentationError` or some unexpected results. "
      ],
      "metadata": {
        "id": "4_bnNfm7B2dg"
      }
    },
    {
      "cell_type": "markdown",
      "source": [
        "## Conditional statements (selection)\n",
        "\n"
      ],
      "metadata": {
        "id": "h2aIumOzQvC0"
      }
    },
    {
      "cell_type": "markdown",
      "source": [
        "### If statements\n",
        "\n",
        "The `if` statement is used to control the stream of a program. It allows the program to branch (i.e., make a decision) at the time of execution rather than coding. \n",
        "\n",
        "The structure of such statements contains a *condition* followed by a *clause*:\n",
        "* The *condition* evaluates down to a Boolean value (`True` or `False`).\n",
        "* The *clause* is the block of code that will be executed only if the condition evaluates to `True`.\n"
      ],
      "metadata": {
        "id": "xX095kACupY2"
      }
    },
    {
      "cell_type": "code",
      "source": [
        "\n",
        "# The code block below shows an example of comparison operators working in tandem with \n",
        "# conditional statements to control the flow of a Python program:\n",
        "\n",
        "# This program will evaluate whether each student’s grade is passing or failing. \n",
        "\n",
        "grade = int(input(\"Type in a grade between 0 and 100:\"))\n",
        "\n",
        "if grade >= 65:\t\t\t\t\t# Condition\n",
        "    print(\"Pass\")\t\t# Clause\n",
        "\n",
        "if grade < 65:\n",
        "    print(\"Fail\")\n",
        "\n",
        "\n"
      ],
      "metadata": {
        "id": "zTM03WYQwZtd"
      },
      "execution_count": null,
      "outputs": []
    },
    {
      "cell_type": "markdown",
      "source": [
        "However, since these options are mutually exclusive, we don't need a second `if` statement and associated condition, but use an `else` statement instead."
      ],
      "metadata": {
        "id": "Z8skwwl4MXIK"
      }
    },
    {
      "cell_type": "markdown",
      "source": [
        "### Else statements\n",
        "\n",
        "The `if` statement's clauses are only executed if the condition evaluates to `True`. The `else` statement is only executed if the initial `if` condition evaluates to False and has no associated condition. In our grade example, we will want output whether the grade is passing or failing."
      ],
      "metadata": {
        "id": "yljQ3dAQDkEC"
      }
    },
    {
      "cell_type": "code",
      "source": [
        "grade = int(input(\"Type in a grade between 0 and 100:\"))\n",
        "\n",
        "if grade >= 65:\n",
        "    print(\"Passing grade\")\n",
        " \n",
        "else:\n",
        "    print(\"Failing grade\")"
      ],
      "metadata": {
        "id": "5aknU71NECex"
      },
      "execution_count": null,
      "outputs": []
    },
    {
      "cell_type": "markdown",
      "source": [
        "### Elif (Else if) statement\n",
        "\n",
        "The `elif` statement is used in programs that evaluate more than two possible outcomes. Like the `else` statement, `elif` statement always follows an `if` statement and is only executed if the initial `if` condition evaluates to `False`. However, its structure is similar to the `if` statement, since it entails a condition that determines if the associated instructions are executed or not (i.e., if the condition evaluates to `True`).\n",
        "\n",
        "In a bank account program, there can be three different situations:\n",
        "\n",
        "    The balance is below 0\n",
        "    The balance is equal to 0\n",
        "    The balance is above 0\n",
        "\n",
        "The `elif` statement will be placed between the `if` statement and the `else` statement:"
      ],
      "metadata": {
        "id": "KNs_w-I2EOPj"
      }
    },
    {
      "cell_type": "code",
      "source": [
        "# balance example\n",
        "\n",
        "balance = float(input(\"What's the balance of the account? Type in positive and negative values\"))\n",
        "\n",
        "if balance < 0:\n",
        "    print(\"Balance is below 0, add funds now or you will be charged a penalty.\")\n",
        " \n",
        "elif balance == 0:\n",
        "    print(\"Balance is equal to 0, add funds soon.\")\n",
        " \n",
        "else:\n",
        "    print(\"Your balance is 0 or above.\")\n",
        "\n",
        "# grade example\n",
        "grade = int(input(\"Type in a grade between 0 and 100:\"))\n",
        "\n",
        "if grade >= 90:\n",
        "    print(\"A grade\")\n",
        " \n",
        "elif grade >=80:\n",
        "    print(\"B grade\")\n",
        " \n",
        "elif grade >=70:\n",
        "    print(\"C grade\")\n",
        " \n",
        "elif grade >= 65:\n",
        "    print(\"D grade\")\n",
        " \n",
        "else:\n",
        "    print(\"Failing grade\")"
      ],
      "metadata": {
        "id": "Dplaa4Qg7nOu"
      },
      "execution_count": null,
      "outputs": []
    },
    {
      "cell_type": "markdown",
      "source": [
        "## Loops\n",
        "\n",
        "Loops are used to repeat similar tasks."
      ],
      "metadata": {
        "id": "VZuboHvuPL2P"
      }
    },
    {
      "cell_type": "markdown",
      "source": [
        "### While\n",
        "\n",
        "The `while` loop repeats code execution based on a Boolean condition, as long as the conditional statement evaluates to `True`.\n",
        "\n",
        "The `while` loop is thus similar to an `if` statement - the difference is that the program doesn't simply continue but jumps back to the start of the while statement until the condition is `False`.\n",
        "\n",
        "The structure of a `while` loop is:\n",
        "\n",
        "```\n",
        "while condition:\n",
        "    line 1 of indented code block\n",
        "    line 2 of indented code block\n",
        "    ...\n",
        "```"
      ],
      "metadata": {
        "id": "Wsv2K0j4POYp"
      }
    },
    {
      "cell_type": "code",
      "source": [
        "# this code will repeatedly ask the user for input until \"password\" is typed in\n",
        "\n",
        "password = ''\n",
        "\n",
        "while password != 'password':\n",
        "    print('What is the password?')\n",
        "    password = input()\n",
        "\n",
        "print('The password is correct')"
      ],
      "metadata": {
        "id": "USDpQ_tG3j_A"
      },
      "execution_count": null,
      "outputs": []
    },
    {
      "cell_type": "markdown",
      "source": [
        "The last `print()` statement is outside of the `while` loop, so it will only be displayed after the loop terminates (i.e., the user enters \"password\" as the password).\n",
        "\n",
        "However, if the word \"password\" is not inserted, the program will be stuck in an infinite loop. These occur when a program keeps executing one loop.\n",
        "\n",
        "It is possible to force a loop termination by using the `break` keyword within the loop."
      ],
      "metadata": {
        "id": "jmQSAPHL4bTu"
      }
    },
    {
      "cell_type": "code",
      "source": [
        "# example: guessing game\n",
        "import random\n",
        "\n",
        "number = random.randint(1, 15)\n",
        "\n",
        "number_of_guesses = 0\n",
        "\n",
        "while number_of_guesses < 5:\n",
        "    print('Guess a number between 1 and 15:')\n",
        "\n",
        "    guess = input()\n",
        "    guess = int(guess)\n",
        "\n",
        "    number_of_guesses += 1\n",
        "\n",
        "    if guess == number:\n",
        "        print(\"You guessed the number!\")\n",
        "        break\n",
        "    elif number_of_guesses < 5:\n",
        "        print(\"Try again.\")\n",
        "    else:\n",
        "        print(\"Game over.\")"
      ],
      "metadata": {
        "id": "8rsFIpxiBHn9"
      },
      "execution_count": null,
      "outputs": []
    },
    {
      "cell_type": "markdown",
      "source": [
        "### For\n",
        "\n",
        "A `for` loop repeats code execution based on a loop variable: they are used when the number of iterations is known before entering the loop, unlike conditionally based `while` loops.\n",
        "\n",
        "The structure of a `for` loop is:\n",
        "\n",
        "```\n",
        "for loop_var in [sequence]:\n",
        "    line 1 of indented code block\n",
        "    line 2 of indented code block\n",
        "    ...\n",
        "```\n"
      ],
      "metadata": {
        "id": "TcxPQYXBPRz8"
      }
    },
    {
      "cell_type": "code",
      "source": [
        "print(\"simple example using range():\")\n",
        "for i in range(5):\n",
        "   print(i)\n",
        "print()\n",
        "\n",
        "print(\"more complex example using range():\")\n",
        "for i in range(100,0,-10):\n",
        "   print(i)"
      ],
      "metadata": {
        "id": "Udpw3ZVrMHTq"
      },
      "execution_count": null,
      "outputs": []
    },
    {
      "cell_type": "markdown",
      "source": [
        "The code block will be executed and the loop variable (`i` in our example) will be created and iteratively reassigned until the sequence is over.\n",
        "\n",
        "The `for` loop can be used with different types of sequences. \n"
      ],
      "metadata": {
        "id": "d9cdep6rM_fh"
      }
    },
    {
      "cell_type": "code",
      "source": [
        "# using a list (equivalent if we were to use a tuple)\n",
        "sharks = ['hammerhead', 'great white', 'dogfish', 'frilled', 'bullhead', 'requiem']\n",
        "\n",
        "for shark in sharks:\n",
        "   print(shark)\n",
        "\n",
        "# using a string\n",
        "string_var = 'Python is cool'\n",
        "\n",
        "for letter in string_var:\n",
        "   print(letter)\n",
        "\n",
        "# using a dictionary\n",
        "sammy_shark = {'name': 'Sammy', 'animal': 'shark', 'color': 'blue', 'location': 'ocean'}\n",
        "\n",
        "for key in sammy_shark:\n",
        "   print(key + ': ' + sammy_shark[key])"
      ],
      "metadata": {
        "id": "QCHbvlzKN1Es"
      },
      "execution_count": null,
      "outputs": []
    },
    {
      "cell_type": "markdown",
      "source": [
        "## Functions\n",
        "\n",
        "A function is a block of instructions that can be easily called and reused, making code more modular.\n",
        "\n",
        "We already covered some built-in functions. Examples:\n",
        "\n",
        "* `print()` outputs an object to the screen\n",
        "* `int()` converts data to integer\n",
        "* `len()` returns the length of an object\n",
        "\n",
        "Function names include parentheses and may also include *arguments*, which are inputs.\n",
        "\n",
        "A function can produce a value using the `return` statement, which will exit a function and *optionally* pass values back to the caller. A `return` statement with no arguments will exit the function and return `None`.\n",
        "\n"
      ],
      "metadata": {
        "id": "CiNISOLnA30Y"
      }
    },
    {
      "cell_type": "code",
      "source": [
        "# simple example using functions: square number\n",
        "def square_num(x):\n",
        "  return x**2\n",
        "\n",
        "square_num(10)"
      ],
      "metadata": {
        "id": "OepPr_NlmMAb"
      },
      "execution_count": null,
      "outputs": []
    },
    {
      "cell_type": "code",
      "source": [
        "# function that takes two arguments and returns the results of some operations\n",
        "def mult_nums(x,y):\n",
        "  output = x*y-x+y**2\n",
        "  return output\n",
        "\n",
        "mult_nums(7,9)"
      ],
      "metadata": {
        "id": "ReVoLhVCmTzM"
      },
      "execution_count": null,
      "outputs": []
    },
    {
      "cell_type": "code",
      "source": [
        "# example: add numbers using two functions\n",
        "\n",
        "# this function asks the user to input three numbers and returns them inside a list\n",
        "def input_numbers():\n",
        "    numbers = []\n",
        "    for i in range(3):\n",
        "        print(i+1, \"/ 3: insert number: \")\n",
        "        n = input()\n",
        "        numbers.append(float(n))\n",
        "    return numbers \n",
        "\n",
        "# this function has a single parameter (numbers) which works as an input\n",
        "# it prints the sum of the numbers that it got from the previous function\n",
        "# it doesn't have a return statement, so it returns nothing \n",
        "def add_numbers(numbers):\n",
        "    print(\"first + second number:\", numbers[0], \"+\", numbers[1], \"=\", numbers[0] + numbers[1])\n",
        "    print(\"first + third number:\", numbers[0], \"+\", numbers[2], \"=\", numbers[0] + numbers[2])\n",
        "    print(\"second + third number:\", numbers[1], \"+\", numbers[2], \"=\", numbers[1] + numbers[2])\n",
        "\n",
        "add_numbers(input_numbers())"
      ],
      "metadata": {
        "id": "93j_gH9bRN7L"
      },
      "execution_count": null,
      "outputs": []
    },
    {
      "cell_type": "markdown",
      "source": [
        "# List comprehension\n",
        "\n",
        "List comprehensions are a succinct way to create lists based on existing iterables, including strings and tuples.\n",
        "\n",
        "Syntactically, list comprehension contains an expression followed by a `for` clause (which can be followed by additional `for` or `if` clauses.\n",
        "\n",
        "Other methods of iteration, such as `for` loops, can be used to create lists, but list comprehensions can limit the number of lines used in your program.\n",
        "\n",
        "List comprehensions follow the following structure:\n",
        "\n",
        "```\n",
        "[x for x in iterable]\n",
        "```\n",
        "\n",
        "Just like `for` loops, list comprehensions create a variable that assumes the values of the items in iterable variable.\n",
        "\n"
      ],
      "metadata": {
        "id": "hbFSQYo8c8lU"
      }
    },
    {
      "cell_type": "code",
      "source": [
        "# example of list comprehension iterating over a string\n",
        "shark_letters = [letter for letter in 'shark']\n",
        "print(shark_letters)\n",
        "\n",
        "# equivalent code using a for loop\n",
        "shark_letters = []\n",
        "\n",
        "for letter in 'shark':\n",
        "    shark_letters.append(letter)\n",
        "\n",
        "print(shark_letters)\n",
        "\n",
        "# example of list comprehension using conditional statements\n",
        "fish_tuple = ('blowfish', 'clownfish', 'catfish', 'octopus')\n",
        "\n",
        "fish_list = [fish for fish in fish_tuple if fish != 'octopus']\n",
        "print(fish_list)\n"
      ],
      "metadata": {
        "id": "3GfZGIcgX-Nj"
      },
      "execution_count": null,
      "outputs": []
    },
    {
      "cell_type": "markdown",
      "source": [
        "# Further reading\n",
        "\n",
        "https://lwn.net/Articles/881599/"
      ],
      "metadata": {
        "id": "BiEELxjH_uPL"
      }
    },
    {
      "cell_type": "markdown",
      "source": [
        "# Credits\n",
        "\n",
        "This tutorial was partly inspired by the following works (published under CC-BY or as public domain):\n",
        "\n",
        "\n",
        "https://www.digitalocean.com/community/tutorials/how-to-use-variables-in-python-3\n",
        "\n",
        "https://www.digitalocean.com/community/tutorials/python-operators\n",
        "\n",
        "https://www.digitalocean.com/community/tutorials/python-data-types\n",
        "\n",
        "https://www.digitalocean.com/community/tutorials/understanding-data-types-in-python-3 \n",
        "\n",
        "https://www.digitalocean.com/community/tutorials/understanding-boolean-logic-in-python-3\n",
        "\n",
        "https://www.digitalocean.com/community/tutorials/python-string-functions\n",
        "\n",
        "https://www.digitalocean.com/community/tutorials/python-slice-string\n",
        "\n",
        "https://k0nze.dev/posts/python-lists/\n",
        "\n",
        "https://www.educative.io/answers/what-are-control-flow-statements-in-python \n",
        "\n",
        "https://www.w3resource.com/python/built-in-function/range.php\n",
        "\n",
        "https://www.digitalocean.com/community/tutorials/python-set\n",
        "\n",
        "https://www.educative.io/answers/what-is-the-frozenset-method-in-python\n",
        "\n",
        "https://www.digitalocean.com/community/tutorials/understanding-dictionaries-in-python-3\n",
        "\n",
        "https://automatetheboringstuff.com/chapter2/\n",
        "\n",
        "https://www.digitalocean.com/community/tutorials/how-to-construct-while-loops-in-python-3\n",
        "\n",
        "https://www.digitalocean.com/community/tutorials/how-to-construct-for-loops-in-python-3\n",
        "\n",
        "https://www.digitalocean.com/community/tutorials/python-modules\n",
        "\n",
        "https://www.digitalocean.com/community/tutorials/how-to-define-functions-in-python-3\n",
        "\n",
        "https://www.digitalocean.com/community/tutorials/understanding-list-comprehensions-in-python-3\n",
        "\n",
        "https://www.educative.io/answers/what-is-the-not-in-keyword-in-python"
      ],
      "metadata": {
        "id": "7ONhXwJShGV5"
      }
    }
  ]
}