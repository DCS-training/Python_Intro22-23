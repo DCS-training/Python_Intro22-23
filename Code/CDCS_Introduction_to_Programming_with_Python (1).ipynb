{
 "cells": [
  {
   "cell_type": "markdown",
   "metadata": {
    "id": "Ddqg-64eD9Ar"
   },
   "source": [
    "# CDCS Introduction to Programming with Python\n",
    "Centre for Data Culture and Society (https://cdcs.ed.ac.uk/)\n",
    "\n",
    "Course prepared by Pedro Jacobetty (p.jacobetty@ed.ac.uk)\n",
    "\n",
    "---\n",
    "\n",
    "You can follow this tutorial on Google colab and execute all the code from your browser, so you don't need to install any software. You can read the tutorial at your own pace. To run any code in this tutorial, press the run button (play symbol) in the cells containing the code or click on the cell and press ctrl + return. The output of the cell will be displayed below the code.\n",
    "\n",
    "However, following this tutorial on your own commputer using Anaconda may be better. You can find more information here:\n",
    "\n",
    "Installl Anaconda - https://docs.anaconda.com/anaconda/install/\n",
    "\n",
    "Install modules in Anaconda - https://docs.anaconda.com/anaconda/user-guide/tasks/install-packages/"
   ]
  },
  {
   "cell_type": "markdown",
   "metadata": {
    "id": "NKdCXUTbpfHT"
   },
   "source": [
    "# Usage of Python\n",
    "\n",
    "## Types of usage\n",
    "\n",
    "Python refers to the Python programming language (instructions, syntax, etc.) and the Python interpreter (an executable) that runs Python code. \n",
    "\n",
    "However, there are different ways to interact with the Python interpreter:\n",
    "\n",
    "- **Interpreter:** interactive shell, terminal-like command line interface (you type commands and press return)\n",
    "\n",
    "- **Scripting:** text file (script) that is executed by passing it to the interpreter, which executes the code inside and terminates when instructed to or the end of the file is reached.\n",
    "\n",
    "- **Integrated development environment (IDE):** more sophisticated coding environments (example: Spyder, Jupyter).\n",
    "\n",
    "## Screen output\n",
    "\n",
    "Python prints the output of every evaluated value when used in interactive mode.\n",
    "\n",
    "When used in scripts, you need to use the print function, as shown below:\n",
    "\n",
    "```\n",
    "print('Hello, world!')\n",
    "```\n",
    "\n",
    "**Example:** Assume that you have a script file \"test.py\" that contains a line with the above print instruction. You can run the script with Python from your operative system's command line:\n",
    "\n",
    "```\n",
    "$ python test.py <-- command (in Windows: C:\\> python test.py)\n",
    "Hello, world!    <-- output printed\n",
    "```\n",
    "\n",
    "Jupyter prints the last evaluated value in each cell (if other operations do not follow it) even if you have not used the `print` statement.\n",
    "\n",
    "To run a cell with Jupyer code, press the run button (play symbol) or press ctrl + return. You can also select some lines within a cell and press ctrl + shift + return to run only the selected lines.\n",
    "\n",
    "Spyder and other IDEs have a mixed behaviour: you can run the entire code as a script (only showing print statements), or you can select some lines of the code and run them (outputs evaluated variables). "
   ]
  },
  {
   "cell_type": "code",
   "execution_count": 4,
   "metadata": {
    "id": "ibtSMb9rXl0Y"
   },
   "outputs": [
    {
     "name": "stdout",
     "output_type": "stream",
     "text": [
      "Hello world!\n",
      "Hello, world!\n"
     ]
    }
   ],
   "source": [
    "# you can concatenate elements in the print function using a comma (adds a space between elements)\n",
    "print(\"Hello\", \"world!\")\n",
    "\n",
    "# it's equivalent to \n",
    "print('Hello, world!')"
   ]
  },
  {
   "cell_type": "markdown",
   "metadata": {
    "id": "BRtXpB10WcXr"
   },
   "source": [
    "# Variables\n",
    "\n",
    "Variables link a value to a symbolic name (identifier) used to reference that value within a computer program. It works like a storage and labelling mechanism.\n",
    "\n",
    "An **assignment statement** follows the structure:\n",
    "\n",
    "`variable_name = 123`\n",
    "\n",
    "Reserved keywords (always lowercase) that cannot be used as variable names):\n",
    "\n",
    "|| | |\n",
    "|---|---|---|\n",
    "| and|exec|not|\n",
    "|assert|finally|or|\n",
    "|break|for|pass|\n",
    "|class|from|print|\n",
    "|continue|global|raise|\n",
    "|def|if|return|\n",
    "|del|import|try|\n",
    "|elif|in|while|\n",
    "|else|is|with|\n",
    "|except|lambda|yield|\n",
    "\n",
    "These keywords refer to in-built functionalities (some of them covered in this tutorial)."
   ]
  },
  {
   "cell_type": "code",
   "execution_count": 5,
   "metadata": {
    "id": "qZKLk-FmppvB"
   },
   "outputs": [
    {
     "name": "stdout",
     "output_type": "stream",
     "text": [
      "103204934813\n",
      "103204934000\n",
      "221\n"
     ]
    }
   ],
   "source": [
    "# example - assigning a numeric (integer) variable\n",
    "my_int = 103204934813\n",
    "\n",
    "print(my_int)\n",
    "\n",
    "print(my_int - 813)\n",
    "\n",
    "# using simple arithmetic operations at the time of assignment\n",
    "x = 76 + 145\n",
    "\n",
    "print(x)"
   ]
  },
  {
   "cell_type": "code",
   "execution_count": 9,
   "metadata": {},
   "outputs": [
    {
     "data": {
      "text/plain": [
       "3"
      ]
     },
     "execution_count": 9,
     "metadata": {},
     "output_type": "execute_result"
    }
   ],
   "source": [
    "an = 3\n",
    "an"
   ]
  },
  {
   "cell_type": "markdown",
   "metadata": {
    "id": "5EMqOw7gqOPA"
   },
   "source": [
    "The naming of variables is quite flexible, but there are some rules you need to keep in mind:\n",
    "\n",
    "* Variable names must only be one word (as in no spaces)\n",
    "* Variable names must be made up of only letters, numbers, and underscore (_)\n",
    "* Variable names cannot begin with a number\n",
    "\n",
    "As the word variable implies, variables can be changed: you can connect a different value to a previously assigned variable through reassignment."
   ]
  },
  {
   "cell_type": "code",
   "execution_count": 10,
   "metadata": {
    "id": "DkU0SBZDqY6E"
   },
   "outputs": [
    {
     "name": "stdout",
     "output_type": "stream",
     "text": [
      "76\n",
      "Sammy\n"
     ]
    }
   ],
   "source": [
    "#Assign x to be an integer\n",
    "x = 76\n",
    "print(x)\n",
    "\n",
    "#Reassign x to be a string\n",
    "x = \"Sammy\"\n",
    "print(x)"
   ]
  },
  {
   "cell_type": "markdown",
   "metadata": {
    "id": "9u9r0hKXgieM"
   },
   "source": [
    "# Simple data types\n",
    "\n",
    "Values and variables have a type. You don't need to make the type explicit, as each type is signalled in the assigned values themselves. We can use the `type()` function to see what type of value a variable holds. This section will cover the built-in simple data types in Python."
   ]
  },
  {
   "cell_type": "markdown",
   "metadata": {
    "id": "mi_Ol6C1q1xC"
   },
   "source": [
    "## Numeric data types: int, float, complex\n",
    "\n",
    "* If a value is expressed as simple numeric values, it is an integer (`int`) value. Example: 100.\n",
    "* If a value is expressed as a decimal number, it is a `float` value. Example: 100.0.\n",
    "* If a value contains the letter j, it is a `complex` value."
   ]
  },
  {
   "cell_type": "code",
   "execution_count": 12,
   "metadata": {
    "id": "iaHXL8CLDzkm"
   },
   "outputs": [
    {
     "name": "stdout",
     "output_type": "stream",
     "text": [
      "x + 2 equals 3\n",
      "The type of variable having value 100  is  <class 'int'>\n",
      "The type of variable having value 10.2345  is  <class 'float'>\n",
      "The type of variable having value (100+3j)  is  <class 'complex'>\n",
      "Variables x, y, z: 1 1 1\n",
      "Variables d, e, f: 1 test 1.0\n"
     ]
    }
   ],
   "source": [
    "# Variable creation (typically by assigning values to it)\n",
    "\n",
    "x = 1       # integer\n",
    "z = 1.0     # floating point\n",
    "\n",
    "# One can use variables instead of values\n",
    "\n",
    "print(\"x + 2 equals\", x+2)\n",
    "\n",
    "#create a variable with an integer value.\n",
    "a=100\n",
    "print(\"The type of variable having value\", a, \" is \", type(a))\n",
    "\n",
    "#create a variable with a float value.\n",
    "b=10.2345\n",
    "print(\"The type of variable having value\", b, \" is \", type(b))\n",
    "\n",
    "#create a variable with a complex value.\n",
    "c=100+3j\n",
    "print(\"The type of variable having value\", c, \" is \", type(c))\n",
    "\n",
    "# Multiple assignments\n",
    "x = y = z = 1\n",
    "print(\"Variables x, y, z:\", x, y, z)\n",
    "\n",
    "d, e, f = 1, \"test\", 1.0\n",
    "print(\"Variables d, e, f:\", d, e, f)"
   ]
  },
  {
   "cell_type": "code",
   "execution_count": 14,
   "metadata": {},
   "outputs": [
    {
     "data": {
      "text/plain": [
       "float"
      ]
     },
     "execution_count": 14,
     "metadata": {},
     "output_type": "execute_result"
    }
   ],
   "source": [
    "type(f)"
   ]
  },
  {
   "cell_type": "markdown",
   "metadata": {
    "id": "tmUcRsiWTDST"
   },
   "source": [
    "### Arithmetic operators\n",
    "\n",
    "|Operator|Name|Example|\n",
    "|---|---|---|\n",
    "|+|Addition|10 + 3 = 13|\n",
    "|-|Subtraction|10 - 3 = 7|\n",
    "|*|Multiplication|10 * 3 = 30|\n",
    "|/|Division|10 / 3 = 3.333...|\n",
    "|%|Modulus (remainder)|10 % 3 = 1|\n",
    "|**|Exponentiation|10 ** 3 = 1000|\n",
    "|//|Floor division (quotient, whole nr)|10 // 3 = 3|\n",
    "\n",
    "Parentheses `()` can be used for grouping.\n",
    "\n",
    "### Precedence of operators:\n",
    "\n",
    "\n",
    "|Order|Description|Operators|\n",
    "|---|---|---|\n",
    "|1|Parenthesis|()|\n",
    "|2|Exponentiation|**|\n",
    "|3|Compliment, unary plus and minus|~, +, -|\n",
    "|4|Multiply, Divide, modulo|*, /, %|\n",
    "|5|Addition and Subtraction|+, -|\n",
    "|6|Right and Left Shift|>>, <<|\n",
    "|7|Bitwise AND|&|\n",
    "|8|Bitwise OR and XOR|\\|, ^|\n",
    "|9|Comparison Operators|==, !=, >, <, >=, <=|\n",
    "|10|Assignment Operator|=|\n"
   ]
  },
  {
   "cell_type": "code",
   "execution_count": 16,
   "metadata": {
    "id": "RgUmGdx8VRnx"
   },
   "outputs": [
    {
     "data": {
      "text/plain": [
       "35"
      ]
     },
     "execution_count": 16,
     "metadata": {},
     "output_type": "execute_result"
    }
   ],
   "source": [
    "# Example of chained arithmetic operators \n",
    "10 * 3 + 5"
   ]
  },
  {
   "cell_type": "markdown",
   "metadata": {
    "id": "6Oyz7f3tnwoV"
   },
   "source": [
    "### Arithmetic at the time of assignment\n",
    "\n",
    "Operations can be done at the time of assignment \n",
    "\n",
    "|Operator|Description|\n",
    "|---|---|\n",
    "|+=|a+=b is equivalent to a=a+b|\n",
    "|*=|a*=b is equivalent to a=a*b|\n",
    "|/=|a/=b is equivalent to a=a/b|\n",
    "|%=|a%=b is equivalent to a=a%b|\n",
    "|\\*\\*=|a\\*\\*=b is equivalent to a=a**b (exponent operator)|\n",
    "|//=|a//=b is equivalent to a=a//b (floor division)|"
   ]
  },
  {
   "cell_type": "code",
   "execution_count": 38,
   "metadata": {},
   "outputs": [
    {
     "data": {
      "text/plain": [
       "249.28299999999996"
      ]
     },
     "execution_count": 38,
     "metadata": {},
     "output_type": "execute_result"
    }
   ],
   "source": [
    "\n",
    "a += 1\n",
    "\n",
    "a"
   ]
  },
  {
   "cell_type": "code",
   "execution_count": 39,
   "metadata": {
    "id": "B20ejR11nwzP"
   },
   "outputs": [
    {
     "name": "stdout",
     "output_type": "stream",
     "text": [
      "Original variables\n",
      "a = 3\n",
      "b = 4\n",
      "\n",
      "Assignment operations on variable a (variable b remains unchanged)\n",
      "a+=b (a=a+b):\n",
      "a = 7\n",
      "a*=b (a=a*b):\n",
      "a = 28\n",
      "a/=b (a=a/b):\n",
      "a = 7.0\n",
      "a%=b (a=a%b):\n",
      "a = 3.0\n"
     ]
    }
   ],
   "source": [
    "# take two variables, assign values with assignment operators\n",
    "a=3\n",
    "b=4\n",
    "print(\"Original variables\")\n",
    "print(\"a =\", a)\n",
    "print(\"b =\", b)\n",
    "\n",
    "print()\n",
    "print(\"Assignment operations on variable a (variable b remains unchanged)\")\n",
    "\n",
    "print(\"a+=b (a=a+b):\")\n",
    "a+=b\n",
    "print(\"a =\", a)\n",
    "\n",
    "print(\"a*=b (a=a*b):\")\n",
    "a*=b\n",
    "print(\"a =\", a)\n",
    "\n",
    "print(\"a/=b (a=a/b):\")\n",
    "a/=b\n",
    "print(\"a =\", a)\n",
    "\n",
    "print(\"a%=b (a=a%b):\")\n",
    "a%=b\n",
    "print(\"a =\", a)"
   ]
  },
  {
   "cell_type": "code",
   "execution_count": null,
   "metadata": {},
   "outputs": [],
   "source": [
    "# create two numeric variables\n",
    "# to print:\n",
    "print(var)\n",
    "\n",
    "# make a calculation with those variables and arithmetic operators\n",
    "\n",
    "# change one of the variables using the operator at the time of assignment "
   ]
  },
  {
   "cell_type": "markdown",
   "metadata": {
    "id": "605GaLrDnSuC"
   },
   "source": [
    "## String data types: str\n",
    "\n",
    "The string is a sequence of characters (Python supports Unicode), generally represented by single or double quotes. \n",
    "\n",
    "\n",
    "\n",
    "`\n",
    "'this is a string'\n",
    "`\n",
    "\n",
    "`\n",
    "\"this is also a string\"\n",
    "`\n",
    "\n",
    "\n",
    "\n",
    "New lines are usually expressed using the new line character `\\n`.\n",
    "\n",
    "Multiple line strings can be expressed with new lines, demarcated by three quotes:\n",
    "\n",
    "``` \n",
    "''' Multiple\n",
    "Line\n",
    "String '''\n",
    "```\n",
    "\n"
   ]
  },
  {
   "cell_type": "code",
   "execution_count": 44,
   "metadata": {
    "id": "TgsiWJ66naVB"
   },
   "outputs": [
    {
     "name": "stdout",
     "output_type": "stream",
     "text": [
      "string in a double quote\n",
      "string in a single quote\n",
      "\n",
      "string in a double quote concatenated with 1\n",
      "\n"
     ]
    }
   ],
   "source": [
    "a = \"string in a double quote\"\n",
    "b= 'string in a single quote'\n",
    "print(a)\n",
    "print(b)\n",
    "print()\n",
    "\n",
    "#using '+' to concatenate the two or several strings\n",
    "print(a+\" concatenated with \"+\"1\")\n",
    "print()\n"
   ]
  },
  {
   "cell_type": "code",
   "execution_count": 46,
   "metadata": {
    "id": "XwwBqXemjA1t"
   },
   "outputs": [
    {
     "ename": "SyntaxError",
     "evalue": "EOL while scanning string literal (2166756928.py, line 3)",
     "output_type": "error",
     "traceback": [
      "\u001b[0;36m  Input \u001b[0;32mIn [46]\u001b[0;36m\u001b[0m\n\u001b[0;31m    y = 'Learning Python is fun.\u001b[0m\n\u001b[0m                                ^\u001b[0m\n\u001b[0;31mSyntaxError\u001b[0m\u001b[0;31m:\u001b[0m EOL while scanning string literal\n"
     ]
    }
   ],
   "source": [
    "# string with new lines\n",
    "\n",
    "y = 'Learning Python is fun.\\nPython can be used interactively and to run scripts.\\nThe syntax is also quite pretty!'\n",
    "print(y)\n",
    "print()\n",
    "\n",
    "# multiple line string (equivalent)\n",
    "y = '''Learning Python is fun.\n",
    "Python can be used interactively and to run scripts.\n",
    "The syntax is also quite pretty!'''\n",
    "print(y)\n",
    "print()"
   ]
  },
  {
   "cell_type": "code",
   "execution_count": 47,
   "metadata": {
    "id": "sXvPwnPrjEOm"
   },
   "outputs": [
    {
     "name": "stdout",
     "output_type": "stream",
     "text": [
      "12\n",
      "The following command raises an exception (i.e., error) as it tries to concatenate a string and another data type\n"
     ]
    },
    {
     "ename": "TypeError",
     "evalue": "can only concatenate str (not \"int\") to str",
     "output_type": "error",
     "traceback": [
      "\u001b[0;31m---------------------------------------------------------------------------\u001b[0m",
      "\u001b[0;31mTypeError\u001b[0m                                 Traceback (most recent call last)",
      "Input \u001b[0;32mIn [47]\u001b[0m, in \u001b[0;36m<cell line: 11>\u001b[0;34m()\u001b[0m\n\u001b[1;32m      9\u001b[0m \u001b[38;5;66;03m#this will throw an error (exception)\u001b[39;00m\n\u001b[1;32m     10\u001b[0m w \u001b[38;5;241m=\u001b[39m \u001b[38;5;124m\"\u001b[39m\u001b[38;5;124m1\u001b[39m\u001b[38;5;124m\"\u001b[39m     \u001b[38;5;66;03m# string\u001b[39;00m\n\u001b[0;32m---> 11\u001b[0m \u001b[43mw\u001b[49m\u001b[38;5;241;43m+\u001b[39;49m\u001b[38;5;241;43m1\u001b[39;49m\n",
      "\u001b[0;31mTypeError\u001b[0m: can only concatenate str (not \"int\") to str"
     ]
    }
   ],
   "source": [
    "# You cannot use the + to concatenate strings and other data types\n",
    "w = \"1\"     # string\n",
    "x = 2\n",
    "\n",
    "# this works\n",
    "print(w + str(x))\n",
    "\n",
    "print(\"The following command raises an exception (i.e., error) as it tries to concatenate a string and another data type\")\n",
    "#this will throw an error (exception)\n",
    "w = \"1\"     # string\n",
    "w+1 # this throws an error"
   ]
  },
  {
   "cell_type": "markdown",
   "metadata": {
    "id": "Anh_EPAji_1C"
   },
   "source": [
    "### String Slicing \n",
    "\n",
    "String slicing creates a new substring from the source string.\n",
    "\n",
    "Syntax:\n",
    "\n",
    "`str_object[start_pos:end_pos:step]`\n",
    "\n",
    "The slicing starts with the start_pos index (included) and ends at end_pos index (excluded). The (optional) step parameter is used to specify the steps to take from start to end index. In Python, slicing indexes start with 0 (the first position has index `0`,the third position index `2`).\n",
    "\n",
    "Omitting the start position will slice from the start, omitting the end position will slice to the end, and omitting the step will use step=1."
   ]
  },
  {
   "cell_type": "code",
   "execution_count": 48,
   "metadata": {
    "id": "Y0JR3_Eaju4F"
   },
   "outputs": [
    {
     "name": "stdout",
     "output_type": "stream",
     "text": [
      "HelloWorld\n",
      "HelloWorld\n",
      "\n",
      "Hello\n",
      "llo\n"
     ]
    }
   ],
   "source": [
    "# Examples\n",
    "\n",
    "s = 'HelloWorld'\n",
    "\n",
    "# Since none of the slicing parameters was provided, the substring is equal to the original string.\n",
    "print(s[:])\n",
    "print(s[::])\n",
    "\n",
    "print()\n",
    "# More examples of slicing a string.\n",
    "s = 'HelloWorld'\n",
    "first_five_chars = s[:5]\n",
    "print(first_five_chars)\n",
    "\n",
    "third_to_fifth_chars = s[2:5]\n",
    "print(third_to_fifth_chars)\n"
   ]
  },
  {
   "cell_type": "code",
   "execution_count": 54,
   "metadata": {},
   "outputs": [
    {
     "data": {
      "text/plain": [
       "'helloworld'"
      ]
     },
     "execution_count": 54,
     "metadata": {},
     "output_type": "execute_result"
    }
   ],
   "source": [
    "s = 'HelloWorld'\n",
    "\n",
    "s.lower()"
   ]
  },
  {
   "cell_type": "markdown",
   "metadata": {
    "id": "S-cSj32Gg0TF"
   },
   "source": [
    "### String functions\n",
    "\n",
    "Python provides built-in functions to manipulate strings. Strings are immutable, so these functions return a new string (the original string remains unchanged).\n",
    "\n",
    "Some useful string functions:\n",
    "\n",
    "|Method|Description|\n",
    "|---|---|\n",
    "|`split()`|Python string split() function is used to split a string into a list of strings based on a delimiter.|\n",
    "|`join()`|This function returns a new string that is the concatenation of the strings in iterable with string object as a delimiter.|\n",
    "|`strip()`|Used to trim whitespaces from the string object.|\n",
    "|`upper()`|We can convert a string to uppercase in Python using str.upper() function.|\n",
    "|`lower()`|This function creates a new string in lowercase.|\n",
    "|`replace()`|Python string replace() function is used to create a new string by replacing some parts of another string.|\n",
    "|`find()`|Python String find() method is used to find the index of a substring in a string.|\n",
    "|`count()`|Python String count() function returns the number of occurrences of a substring in the given string.|\n",
    "|`startswith()`|Python string startswith() function returns True if the string starts with the given prefix, otherwise it returns False.|\n",
    "|`endswith()`|Python string endswith() function returns True if the string ends with the given suffix, otherwise it returns False.|\n",
    "|`splitlines()`|Python String splitlines() function returns the list of lines in the string.|"
   ]
  },
  {
   "cell_type": "code",
   "execution_count": 56,
   "metadata": {
    "id": "Suxz4p-lh_hr"
   },
   "outputs": [
    {
     "name": "stdout",
     "output_type": "stream",
     "text": [
      "original string:\n",
      "This is a multiline\n",
      "string\n",
      "\n",
      "split: ['Th', 's ', 's a mult', 'l', 'ne\\nstr', 'ng']\n",
      "splitlines: ['This is a multiline', 'string']\n",
      "\n",
      "Uppercase: THIS IS A MULTILINE\n",
      "STRING\n",
      "\n",
      "Find the index of 'i' (remember, Python starts counting at 0): 2\n"
     ]
    }
   ],
   "source": [
    "#examples \n",
    "\n",
    "s = \"This is a multiline\\nstring\"\n",
    "\n",
    "print(\"original string:\")\n",
    "print(s)\n",
    "print()\n",
    "print(\"split:\", s.split(\"i\"))\n",
    "\n",
    "print(\"splitlines:\", s.splitlines())\n",
    "\n",
    "print()\n",
    "\n",
    "print(\"Uppercase:\", s.upper())\n",
    "\n",
    "print()\n",
    "print(\"Find the index of 'i' (remember, Python starts counting at 0):\", s.find(\"i\"))\n"
   ]
  },
  {
   "cell_type": "code",
   "execution_count": 70,
   "metadata": {},
   "outputs": [
    {
     "name": "stdout",
     "output_type": "stream",
     "text": [
      "T !\n",
      "Thi\n",
      "xt!\n"
     ]
    }
   ],
   "source": [
    "# create a string variable and print the first and last character\n",
    "text = \"This is the text!\"\n",
    "\n",
    "print(text[0], text[-1])\n",
    "\n",
    "# print the first 3 characters\n",
    "print(text[:3])\n",
    "\n",
    "#print the last 3 characters\n",
    "print(text[-3:])\n"
   ]
  },
  {
   "cell_type": "markdown",
   "metadata": {
    "id": "iVpjtdCjnapg"
   },
   "source": [
    "## Boolean type: bool\n",
    "\n",
    "Boolean data represent truth values (mathematical logic) and can take two values: `True` or `False`. They start with a capitalized letter and are special values in Python.\n",
    "\n",
    "Many operations evaluate to either `True` or `False`. An example is comparisons. \n",
    "\n",
    "### Comparison operators\n",
    "\n",
    "Here are the Boolean comparison operators used in Python:\n",
    "\n",
    "|Operator|What it means|\n",
    "|---|---|\n",
    "|==|Equal to|\n",
    "|!=|Not equal to|\n",
    "|<|Less than|\n",
    "|>|Greater than|\n",
    "|<=|Less than or equal to|\n",
    "|>=|Greater than or equal to|"
   ]
  },
  {
   "cell_type": "code",
   "execution_count": 75,
   "metadata": {
    "id": "6d8g0rTDY_CC",
    "scrolled": true
   },
   "outputs": [
    {
     "ename": "SyntaxError",
     "evalue": "invalid syntax (2686808979.py, line 25)",
     "output_type": "error",
     "traceback": [
      "\u001b[0;36m  Input \u001b[0;32mIn [75]\u001b[0;36m\u001b[0m\n\u001b[0;31m    print(\"t !=\" f: \", t != f)\u001b[0m\n\u001b[0m                 ^\u001b[0m\n\u001b[0;31mSyntaxError\u001b[0m\u001b[0;31m:\u001b[0m invalid syntax\n"
     ]
    }
   ],
   "source": [
    "# numeric comparison\n",
    "\n",
    "x = 5\n",
    "y = 8\n",
    "\n",
    "print(\"x == y:\", x == y)\n",
    "print(\"x != y:\", x != y)\n",
    "print(\"x < y:\", x < y)\n",
    "print(\"x > y:\", x > y)\n",
    "print(\"x <= y:\", x <= y)\n",
    "print(\"x >= y:\", x >= y)\n",
    "\n",
    "# string comparison\n",
    "\n",
    "Sammy = \"Sammy\"\n",
    "sammy = \"sammy\"\n",
    "\n",
    "print(\"Sammy(lower) == sammy: \", Sammy.lower() == sammy)\n",
    "\n",
    "# boolean comparison\n",
    "\n",
    "t = True\n",
    "f = False\n",
    "\n",
    "print(\"t != f: \", t != f)"
   ]
  },
  {
   "cell_type": "markdown",
   "metadata": {
    "id": "vP6a0b66ch3S"
   },
   "source": [
    "### Logical operators\n",
    "\n",
    "Logical operators compare values and evaluate expressions to Boolean values (returning either `True` or `False`). They are typically used to evaluate two or more logical expressions. \n",
    "\n",
    "|Operator|What it means|Example|\n",
    "|---|---|---|\n",
    "|and|`True` if both are `True`; at least one `False` expression evaluates to `False`|x and y|\n",
    "|or|`True` if at least one is `True`; both expressions `False` evaluate to `False`|x or y|\n",
    "|not|`True` only if the expression is `False` and viceversa|not x|\n",
    "\n"
   ]
  },
  {
   "cell_type": "code",
   "execution_count": 77,
   "metadata": {
    "id": "z9oE1ZnrcgJm"
   },
   "outputs": [
    {
     "name": "stdout",
     "output_type": "stream",
     "text": [
      "False\n",
      "True\n",
      "False\n",
      "True\n"
     ]
    },
    {
     "data": {
      "text/plain": [
       "True"
      ]
     },
     "execution_count": 77,
     "metadata": {},
     "output_type": "execute_result"
    }
   ],
   "source": [
    "print((9 > 7) and (2 < 1))\t# Both original expressions are True\n",
    "print((8 == 8) or (6 != 6))\t# One original expression is True\n",
    "print(3 <= 1)\t\t\t# The original expression is False\n",
    "print(not 3 <= 1)\t\t\t# The original expression after the not is False\n",
    "\n",
    "# compound expressions\n",
    "not((-0.2 > 1.4) and ((0.8 < 3.1) or (0.1 == 0.1)))"
   ]
  },
  {
   "cell_type": "markdown",
   "metadata": {
    "id": "7IcdvpEJj-e6"
   },
   "source": [
    "### Membership Operators\n",
    "\n",
    "Membership operators are used to test for membership in an order (string, lists, or tuples).\n",
    "\n",
    "The `in` operator checks whether a value is present in a sequence or not (returning `True` or `False`).\n",
    "\n",
    "The `not in` operator is a simple inversion of `in` (returns `False` if the value is present, `True` if it is not)."
   ]
  },
  {
   "cell_type": "code",
   "execution_count": null,
   "metadata": {
    "id": "k21saHqqkC3m"
   },
   "outputs": [],
   "source": [
    "# example of the \"in\" operator \n",
    "#test if a given value is present in a list\n",
    "\n",
    "list1=[0,2,4,6,8]\n",
    "\n",
    "print(\"list1:\", list1)\n",
    "print()\n",
    "\n",
    "value = 1\n",
    "\n",
    "print(\"Is value\", value, \"'in' list1?\")\n",
    "print(value in list1)\n",
    "print()\n",
    "\n",
    "# example of the \"not in\" operator \n",
    "#test if a given value is present in a list\n",
    "\n",
    "value = 2\n",
    "\n",
    "print(\"Is value\", value, \"'not in' list1?\")\n",
    "print(value not in list1)"
   ]
  },
  {
   "cell_type": "markdown",
   "metadata": {
    "id": "4LscrtusZHDe"
   },
   "source": [
    "# Complex data types \n",
    "\n"
   ]
  },
  {
   "cell_type": "markdown",
   "metadata": {
    "id": "-nSBSklRPaYG"
   },
   "source": [
    "## Sequence data types"
   ]
  },
  {
   "cell_type": "markdown",
   "metadata": {
    "id": "VWhk8mfjrFUg"
   },
   "source": [
    "\n",
    "### Lists\n",
    "\n",
    "A list is a mutable (changeable), ordered sequence of values (items). Lists are expressed by comma-separated values between square brackets `[]` (just as strings are expressed as characters between quotes).\n",
    "\n",
    "Lists are useful to work with many related values, keep them together, condense code, and perform the same operations on multiple values at once.\n",
    "\n",
    "Empty lists are expressed as:\n",
    "\n",
    "`empty_lists = []`\n",
    "\n",
    "A list of integers looks like this:\n",
    "\n",
    "`[-3, -2, -1, 0, 1, 2, 3]`\n",
    "\n",
    "A list of floats looks like this:\n",
    "\n",
    "`[3.14, 9.23, 111.11, 312.12, 1.05]`\n",
    "\n",
    "A list of strings:\n",
    "\n",
    "`['shark', 'cuttlefish', 'squid', 'mantis shrimp']`\n",
    "\n",
    "If we define our string list as sea_creatures:\n",
    "\n",
    "`sea_creatures = ['shark', 'cuttlefish', 'squid', 'mantis shrimp', 'anemone']`\n",
    "\n",
    "Lists are mutable: they can have values added, removed, and changed.\n",
    "\n",
    "The `len()` built-in function outputs the length (number of items) in the list."
   ]
  },
  {
   "cell_type": "code",
   "execution_count": 4,
   "metadata": {},
   "outputs": [
    {
     "data": {
      "text/plain": [
       "[1, False, 'str']"
      ]
     },
     "execution_count": 4,
     "metadata": {},
     "output_type": "execute_result"
    }
   ],
   "source": [
    "l = [1, False, \"str\"]\n",
    "l"
   ]
  },
  {
   "cell_type": "code",
   "execution_count": 5,
   "metadata": {
    "id": "tLpOGYAncco0"
   },
   "outputs": [
    {
     "name": "stdout",
     "output_type": "stream",
     "text": [
      "['shark', 'cuttlefish', 'squid', 'mantis shrimp', 'anemone']\n",
      "number of items in the list: 5\n"
     ]
    }
   ],
   "source": [
    "# working with lists\n",
    "sea_creatures = ['shark', 'cuttlefish', 'squid', 'mantis shrimp', 'anemone']\n",
    "print(sea_creatures)\n",
    "\n",
    "# list length\n",
    "print(\"number of items in the list:\", len(sea_creatures))"
   ]
  },
  {
   "cell_type": "markdown",
   "metadata": {
    "id": "fZIvYavbdVJh"
   },
   "source": [
    "#### Indexing lists\n",
    "\n",
    "Each list item corresponds to an index number, an integer value, starting with the index number 0.\n",
    "\n",
    "For the list sea_creatures, the index breakdown looks like this:\n",
    "\n",
    "|Item|Index|\n",
    "|---|---|\n",
    "|‘shark’|0|\n",
    "|‘cuttlefish’|1|\n",
    "|‘squid’|2|\n",
    "|‘mantis shrimp’|3|\n",
    "|‘anemone’|4|\n",
    "\n",
    "The first item starts at index 0, and the list ends at index 4.\n",
    "\n",
    "We’re able to access and manipulate discrete items in lists by referring to their index number. \n",
    "\n",
    "To access the first element, you need to enter a 0 as an index between the brackets directly added after the variable name. To find the second element of the list, use the following syntax:\n",
    "\n",
    "```\n",
    ">>> sea_creatures[1] \n",
    "‘cuttlefish’\n",
    "```\n",
    "\n",
    "The last element is at index `len(list_variable)-1`. However, you can use negative indices instead: the index `-1` will return the last element of a list, the index `-2` returns the second-last element, and so on.\n",
    "\n",
    "So the expression `sea_creatures[-1]` is equivalent to `sea_creatures[len(list_variable)-1]`, which is equivalent to `sea_creatures[4]`.\n",
    "\n",
    "Examples:"
   ]
  },
  {
   "cell_type": "code",
   "execution_count": 8,
   "metadata": {
    "id": "lHQ0BxOti31_"
   },
   "outputs": [
    {
     "name": "stdout",
     "output_type": "stream",
     "text": [
      "last item in sea_creatures: anemone\n",
      "second-last item in sea_creatures: mantis shrimp\n"
     ]
    },
    {
     "data": {
      "text/plain": [
       "'s'"
      ]
     },
     "execution_count": 8,
     "metadata": {},
     "output_type": "execute_result"
    }
   ],
   "source": [
    "print(\"last item in sea_creatures:\", sea_creatures[-1])\n",
    "print(\"second-last item in sea_creatures:\", sea_creatures[-2])\n",
    "\n",
    "sea_creatures[0][0]"
   ]
  },
  {
   "cell_type": "markdown",
   "metadata": {
    "id": "xVkiI1IVNSOX"
   },
   "source": [
    "#### List Slicing\n",
    "\n",
    "The square bracket operators (`[`and `]`) are also useful for list slicing, returning a sub-list (a part of the original list). "
   ]
  },
  {
   "cell_type": "code",
   "execution_count": 9,
   "metadata": {
    "id": "9J-WHGGANR6A"
   },
   "outputs": [
    {
     "name": "stdout",
     "output_type": "stream",
     "text": [
      "i[4:9] evaluates to [4, 5, 6, 7, 8]\n",
      "\n",
      "i[13:] evaluates to [13, 14, 16, 17, 18, 19]\n",
      "\n",
      "i[:7] evaluates to [0, 1, 2, 3, 4, 5, 6]\n",
      "\n",
      "i[5:18:3] evaluates to [5, 8, 11, 14, 18]\n",
      "\n",
      "i[::3] evaluates to [0, 3, 6, 9, 12, 16, 19]\n"
     ]
    }
   ],
   "source": [
    "# To make the examples a bit easier to comprehend, we will declare a list 'i', \n",
    "# in which elements have the same value as the index:\n",
    "\n",
    "i = [0, 1, 2, 3, 4, 5, 6, 7, 8, 9, 10, 11, 12, 13, 14, 16, 17, 18, 19]\n",
    "\n",
    "# If we now want to slice out the list [4, 5, 6, 7, 8] we enter the following:\n",
    "\n",
    "print(\"i[4:9] evaluates to\", i[4:9])\n",
    "print()\n",
    "\n",
    "# The first index (here 4) is the start index. \n",
    "# From this index on, all elements are returned before the second index (here 9). \n",
    "\n",
    "# If you want a list starting from a certain index until the end of the list, you don’t enter a second index:\n",
    "\n",
    "print(\"i[13:] evaluates to\", i[13:])\n",
    "print()\n",
    "\n",
    "# If you want a list from the beginning up to a certain index, don’t enter the first index:\n",
    "\n",
    "print( \"i[:7] evaluates to\", i[:7])\n",
    "print()\n",
    "\n",
    "# To only get every n-th element of a list with list slicing by adding another colon `:` \n",
    "# and indicating the *step* width. \n",
    "# If you only want every 3rd element of the sub-list i[5:18] \n",
    "#use the following:\n",
    "\n",
    "print(\"i[5:18:3] evaluates to\", i[5:18:3])\n",
    "print()\n",
    "\n",
    "#Leave out the first and second index (or both) if the start/end of your sub-list \n",
    "# should be the start/end of the original list:\n",
    "print(\"i[::3] evaluates to\", i[::3])\n"
   ]
  },
  {
   "cell_type": "code",
   "execution_count": null,
   "metadata": {},
   "outputs": [],
   "source": [
    "# slice a list, selecting only every other item\n",
    "\n",
    "list1 = [2,5,7,3,7]"
   ]
  },
  {
   "cell_type": "markdown",
   "metadata": {
    "id": "oaiH8k--n2xa"
   },
   "source": [
    "### Tuple\n",
    "\n",
    "A tuple data structure is similar to a list, an ordered sequence of elements. The main difference is that a tuple is immutable (unchangeable): its values cannot be modified.\n",
    "\n",
    "Tuples are expressed as comma-separated items surrounded by parentheses: `()`.\n",
    "\n",
    "Empty tuples are expressed as:\n",
    "\n",
    "`empty_tuple = ()`\n",
    "\n",
    "However, unlike lists, tuples with a single value must use a comma:\n",
    "\n",
    "`coral = ('blue coral',)`.\n",
    "\n",
    "Elements in tuples can be accessed using the square bracket slicing notation used for strings."
   ]
  },
  {
   "cell_type": "code",
   "execution_count": null,
   "metadata": {
    "id": "2_5hBSA3UFW0"
   },
   "outputs": [],
   "source": [
    "#The following is an example tuple that consists of four elements:\n",
    "coral = ('blue coral', 'staghorn coral', 'pillar coral', 'elkhorn coral')\n",
    "\n",
    "coral[1]"
   ]
  },
  {
   "cell_type": "markdown",
   "metadata": {
    "id": "UwZ4UQXsU0hs"
   },
   "source": [
    "\n",
    "Because tuples are immutable, they are used when there won't be any changes to the sequence of values. This means your code can be optimized: code using tuples will run slightly faster than the same code using lists."
   ]
  },
  {
   "cell_type": "markdown",
   "metadata": {
    "id": "Hiw16JPRPisK"
   },
   "source": [
    "### Range\n",
    "\n",
    "The `range()` function returns an immutable sequence of numbers. Like list slicing, it takes a *starting position* (0 by default), a specified *stop position* and a *step* (1 by default).\n",
    "\n",
    "You can omit the start position, the step, or both, but the stop position must be specified.\n",
    "\n",
    "Syntax:\n",
    "\n",
    "```\n",
    "range(stop) \n",
    "range(start, stop[, step])\n",
    "```\n",
    "\n",
    "The `range()` function also works with a negative step value.\n",
    "\n",
    "The `range()` function produces numbers *lazily*: numbers are not returned in a batch but one at a time, as needed. This saves the memory required for big lists."
   ]
  },
  {
   "cell_type": "code",
   "execution_count": 12,
   "metadata": {
    "id": "DlNsy_TVW-x2"
   },
   "outputs": [
    {
     "name": "stdout",
     "output_type": "stream",
     "text": [
      "range(0, 10)\n",
      "[0, 1, 2, 3, 4, 5, 6, 7, 8, 9]\n",
      "[0, 5, 10, 15, 20, 25]\n",
      "[0, -1, -2, -3, -4, -5, -6, -7, -8, -9]\n"
     ]
    }
   ],
   "source": [
    "# In order to access the whole sequence, you need to use list() or tuple()\n",
    "\n",
    "print(range(10)) # won't print the sequence\n",
    "print(list(range(10))) # will print the sequence\n",
    "\n",
    "print(list(range(0, 30, 5)))\n",
    "\n",
    "print(list(range(0, -10, -1)))"
   ]
  },
  {
   "cell_type": "markdown",
   "metadata": {
    "id": "3FIXqAhYPp6g"
   },
   "source": [
    "## Set data types: set & frozenset\n"
   ]
  },
  {
   "cell_type": "markdown",
   "metadata": {
    "id": "vnxFvIcc859R"
   },
   "source": [
    "\n",
    "### Set\n",
    "\n",
    "A set is an unordered collection of unique elements, which is mutable (elements can be added to or deleted from it). Like other sequences, one set can contain items of multiple data types.\n",
    "\n",
    "As a collection of unique items, it will discard all repeated items, both those expressed at the time of initialization and those added later.\n",
    "\n",
    "To initialize a set:\n",
    "\n",
    "* use `set()`:\n",
    " * enter a sequence (e.g. list, tuple) as arguments: `set_var = set([1,2])`\n",
    " * to create an empty set: `empty_set = set()`\n",
    "* place items within curly brackets: `set_vat = {1,2}`"
   ]
  },
  {
   "cell_type": "code",
   "execution_count": 13,
   "metadata": {
    "id": "Ok5fKNHLjr72"
   },
   "outputs": [
    {
     "name": "stdout",
     "output_type": "stream",
     "text": [
      "set1: {1, 2, 3, 4}\n",
      "set2: {1, 2, 3, 2.45, (1, 2, 3), 'Python'}\n",
      "set3: {1, 2, 3, 4}\n"
     ]
    }
   ],
   "source": [
    "#set containing single data-type\n",
    "set1 = {1, 2, 3, 4, 2, 3, 1}\n",
    "print(\"set1:\", set1)\n",
    "\n",
    "#set containing multiple data-type\n",
    "set2 = {1, 2, 3, (1, 2, 3), 2.45, \"Python\", 2, 3}\n",
    "print(\"set2:\", set2)\n",
    "\n",
    "#creating a set from a list\n",
    "theList = [1, 2, 3, 4, 2, 3, 1]\n",
    "set3 = set(theList)\n",
    "print(\"set3:\", set3)"
   ]
  },
  {
   "cell_type": "markdown",
   "metadata": {
    "id": "4vhlqFnNlbNl"
   },
   "source": [
    "To add a single element to a set, use the `add()` function. \n",
    "\n",
    "To add iterable elements (e.g. list or set), use the `update()` function. "
   ]
  },
  {
   "cell_type": "code",
   "execution_count": null,
   "metadata": {
    "id": "Wlto_2NRltlQ"
   },
   "outputs": [],
   "source": [
    "#initialize an empty set\n",
    "theSet = set()\n",
    "\n",
    "#add a single element using add() function\n",
    "theSet.add(1)\n",
    "theSet.add(2)\n",
    "theSet.add(3)\n",
    "theSet.add(2)\n",
    "#add another data-type\n",
    "theSet.add('hello')\n",
    "print(theSet)\n",
    "\n",
    "#add iterable elements using update() function\n",
    "theSet.update([1,2,4,'hello','world']) #list as iterable element\n",
    "theSet.update({1,2,5}) #set as iterable element\n",
    "print(theSet)\n"
   ]
  },
  {
   "cell_type": "markdown",
   "metadata": {
    "id": "BUcrPQnFmWXk"
   },
   "source": [
    "To remove elements from a set, use the `remove()` and `discard()` functions. \n",
    "\n",
    "The `remove()` function will raise an exception for attempts to remove an item which is not in the set, the `discard()` function will not."
   ]
  },
  {
   "cell_type": "code",
   "execution_count": null,
   "metadata": {
    "id": "HHQskdySmwYT"
   },
   "outputs": [],
   "source": [
    "theSet = {1,2,3,4,5,6}\n",
    "print(\"original set:\", theSet)\n",
    "\n",
    "#remove 3 using discard() function\n",
    "theSet.discard(3)\n",
    "print(\"discarding 3:\", theSet)\n",
    "\n",
    "#call discard() function again to remove 3\n",
    "theSet.discard(3) #This won't raise any exception\n",
    "print(\"discarding 3 again:\", theSet)\n",
    "\n",
    "#call remove() function to remove 5\n",
    "theSet.remove(5)\n",
    "print(\"removing 5:\", theSet)\n",
    "\n",
    "#call remove() function to remove 5 again\n",
    "theSet.remove(5) #this would raise exception as 5 is no longer in the set\n",
    "print(\"removing 5 again:\", theSet) #this won't be printed"
   ]
  },
  {
   "cell_type": "markdown",
   "metadata": {
    "id": "0LscnWFj8-Qk"
   },
   "source": [
    "### Frozenset\n",
    "\n",
    "The `frozenset()` method is an inbuilt function that converts an iterable object into an immutable unordered collection of unique elements.\n",
    "\n",
    "The function takes one optional parameter, an iterable object (i.e., `list`, `tuple`, `range`).\n",
    "\n",
    "Syntax:\n",
    "\n",
    "```\n",
    "frozenset_var = frozenset([iterable_object])\n",
    "```\n",
    "\n",
    "The resulting value is an immutable iterable object."
   ]
  },
  {
   "cell_type": "code",
   "execution_count": null,
   "metadata": {
    "id": "ay0fygCe-aQA"
   },
   "outputs": [],
   "source": [
    "# no parameter (empty frozen set)\n",
    "f_set0 = frozenset()\n",
    "print('f_set0 (frozen set with no parameter, an empty frozen set):', f_set0)\n",
    "\n",
    "# set of integers\n",
    "integers = {1, 2, 3, 4, 5}\n",
    "\n",
    "f_set1 = frozenset(integers)\n",
    "print('f_set1 (frozen set of 5 integers):', f_set1)\n",
    "\n",
    "# this command will raise an exception (cannot add items to a frozen set)\n",
    "f_set1.add(10)"
   ]
  },
  {
   "cell_type": "markdown",
   "metadata": {
    "id": "BA1Q5LZ-Plds"
   },
   "source": [
    "## Mapping data type: dictionary\n",
    "\n",
    "Dictionaries map *keys* to *values*, storing *key-value pairs*.\n",
    "\n",
    "Dictionaries are expressed using curly braces on either side `{ }`, containing comma-separated key-value pairs. Those pairs are expressed using colons (`:`) and follow the `key: value` structure.\n",
    "\n",
    "Example:\n",
    "\n",
    "`user1 = {'username': 'python-shark', 'online': True, 'followers': 597}`\n",
    "\n",
    "Keys can be any immutable data type. Values can be comprised of any data type. \n",
    "\n",
    "The keys in the dictionary above are:\n",
    "\n",
    "    'username'\n",
    "    'online'\n",
    "    'followers'\n",
    "\n",
    "Each of the keys in the above example are strings."
   ]
  },
  {
   "cell_type": "code",
   "execution_count": 14,
   "metadata": {
    "id": "xsKYnu0SzTJG"
   },
   "outputs": [
    {
     "name": "stdout",
     "output_type": "stream",
     "text": [
      "{'username': 'python-shark', 'online': True, 'followers': 597}\n"
     ]
    }
   ],
   "source": [
    "user1 = {'username': 'python-shark', 'online': True, 'followers': 597}\n",
    "print(user1)"
   ]
  },
  {
   "cell_type": "markdown",
   "metadata": {
    "id": "IRQCOfIJzhD9"
   },
   "source": [
    "Values of a dictionary can be called using the related keys."
   ]
  },
  {
   "cell_type": "code",
   "execution_count": 15,
   "metadata": {
    "id": "Sa9g9LYOzxF6"
   },
   "outputs": [
    {
     "name": "stdout",
     "output_type": "stream",
     "text": [
      "python-shark\n",
      "597\n"
     ]
    }
   ],
   "source": [
    "# to retrieve user1's username: user1[\"username\"]\n",
    "print(user1[\"username\"])\n",
    "\n",
    "# user1's followers\n",
    "print(user1[\"followers\"])"
   ]
  },
  {
   "cell_type": "markdown",
   "metadata": {
    "id": "joA32W_J0ZTV"
   },
   "source": [
    "Dictionaries also have useful built-in methods:\n",
    "\n",
    "* `dict.keys()` returns keys\n",
    "* `dict.values()` returns values\n",
    "* `dict.items()` returns items in a list of (key, value) tuple pairs"
   ]
  },
  {
   "cell_type": "code",
   "execution_count": 19,
   "metadata": {
    "id": "FlNgnO5M0xuE"
   },
   "outputs": [
    {
     "name": "stdout",
     "output_type": "stream",
     "text": [
      "dict_keys(['username', 'online', 'followers'])\n",
      "dict_values(['python-shark', True, 597])\n",
      "dict_items([('username', 'python-shark'), ('online', True), ('followers', 597)])\n"
     ]
    },
    {
     "data": {
      "text/plain": [
       "{'username': 'python-shark', 'online': True, 'followers': 597}"
      ]
     },
     "execution_count": 19,
     "metadata": {},
     "output_type": "execute_result"
    }
   ],
   "source": [
    "print(user1.keys())\n",
    "print(user1.values())\n",
    "print(user1.items())\n",
    "user1"
   ]
  },
  {
   "cell_type": "markdown",
   "metadata": {
    "id": "2yOqH91f4Qbg"
   },
   "source": [
    "Dictionaries are mutable data structures, they can be modified.\n",
    "\n",
    "To add or modify key-value pairs, use the following syntax:\n",
    "\n",
    "`dict[key] = value`"
   ]
  },
  {
   "cell_type": "code",
   "execution_count": 20,
   "metadata": {
    "id": "ZfS3eRA74f7K"
   },
   "outputs": [
    {
     "name": "stdout",
     "output_type": "stream",
     "text": [
      "original usernames dict:\n",
      "{'Sammy': 'sammy-shark', 'Jamie': 'mantisshrimp54'}\n",
      "new key-value pair:\n",
      "{'Sammy': 'sammy-shark', 'Jamie': 'mantisshrimp54', 'Drew': 'squidly'}\n",
      "\n",
      "original drew dict\n",
      "{'username': 'squidly', 'online': True, 'followers': 305}\n",
      "updated value:\n",
      "{'username': 'squidly', 'online': True, 'followers': 342}\n"
     ]
    }
   ],
   "source": [
    "usernames = {'Sammy': 'sammy-shark', 'Jamie': 'mantisshrimp54'}\n",
    "print(\"original usernames dict:\")\n",
    "print(usernames)\n",
    "\n",
    "# adding a new key and value\n",
    "usernames['Drew'] = 'squidly'\n",
    "print(\"new key-value pair:\")\n",
    "print(usernames)\n",
    "print()\n",
    "\n",
    "# modifying the value assigned to a key\n",
    "drew = {'username': 'squidly', 'online': True, 'followers': 305}\n",
    "print(\"original drew dict\")\n",
    "print(drew)\n",
    "print(\"updated value:\")\n",
    "drew['followers'] = 342\n",
    "print(drew)"
   ]
  },
  {
   "cell_type": "markdown",
   "metadata": {
    "id": "zvMqo1p24gXh"
   },
   "source": [
    "To remove a key-value pair from a dictionary, we’ll use the following syntax:\n",
    "\n",
    "`del dict[key]`\n",
    "\n",
    "To clear a dictionary of all of its values, use the `dict.clear()` method (which will keep the empty dictionary).\n",
    "\n",
    "\n",
    "To remove the dictionary entirely, use:\n",
    "\n",
    "`del dict`"
   ]
  },
  {
   "cell_type": "code",
   "execution_count": null,
   "metadata": {
    "id": "fyRw2_yg63dN"
   },
   "outputs": [],
   "source": [
    "jesse = {'username': 'JOctopus', 'online': False, 'points': 723, 'followers': 481}\n",
    "print(\"original dictionary:\")\n",
    "print(jesse)\n",
    "print()\n",
    "\n",
    "\n",
    "# remove a key-value pair\n",
    "del jesse['points']\n",
    "print(\"removing 'points':\")\n",
    "print(jesse)\n",
    "print()\n",
    "\n",
    "# removing all items\n",
    "jesse.clear()\n",
    "print(\"clearing the dictionary:\")\n",
    "print(jesse)\n",
    "\n",
    "# deleting it entirely\n",
    "del jesse\n",
    "print(\"after deleting the dictionary, calling it will raise an exception:\")\n",
    "print(jesse)"
   ]
  },
  {
   "cell_type": "code",
   "execution_count": 34,
   "metadata": {},
   "outputs": [
    {
     "data": {
      "text/plain": [
       "{'name': 'pedro', 'approved': False, 'progress': [{'geo': 4}, {'math': 1}]}"
      ]
     },
     "execution_count": 34,
     "metadata": {},
     "output_type": "execute_result"
    }
   ],
   "source": [
    "# append\n",
    "\n",
    "d = dict()\n",
    "d[\"username\"] = \"pedro\"\n",
    "d[\"followers\"] = 3\n",
    "d\n",
    "\n",
    "l = [1,2,3]\n",
    "\n",
    "l.append(4)\n",
    "l\n",
    "\n",
    "# dictionary with 2 keys: name, grades\n",
    "# grades will be a list of numbers\n",
    "\n",
    "d = dict()\n",
    "d[\"name\"] = \"pedro\"\n",
    "d[\"grades\"] = [1,2,3,4]\n",
    "\n",
    "\n",
    "f = {'name': 'pedro', \"approved\": False, \"progress\": [{\"geo\": 4}, {\"math\": 1}]}\n",
    "f"
   ]
  },
  {
   "cell_type": "markdown",
   "metadata": {
    "id": "mokOzFkzwdEj"
   },
   "source": [
    "# Simple input\n",
    "\n",
    "To get user input, we can use the `input()` function. The program will wait indefinitely for the user input. Once the user provides the input data and presses the enter key, the program will start executing the next statements.\n"
   ]
  },
  {
   "cell_type": "code",
   "execution_count": 79,
   "metadata": {
    "id": "pB-5zvHIw_Ui"
   },
   "outputs": [
    {
     "name": "stdout",
     "output_type": "stream",
     "text": [
      "Let us wait for user input. What is your name?\n",
      "39\n",
      "Hello, 39\n"
     ]
    }
   ],
   "source": [
    "name = input('Let us wait for user input. What is your name?\\n')\n",
    "print('Hello,', name)\n",
    "\n"
   ]
  },
  {
   "cell_type": "markdown",
   "metadata": {
    "id": "od6lRNakAYN5"
   },
   "source": [
    "the `input()` function differs from the normal variable assignment in the sense that typing in a number or a float will always result in a string.\n",
    "\n",
    "This means that non-string inputs must be explicitly transformed:"
   ]
  },
  {
   "cell_type": "code",
   "execution_count": 80,
   "metadata": {
    "id": "fDFIZh1KAobD"
   },
   "outputs": [
    {
     "name": "stdout",
     "output_type": "stream",
     "text": [
      "Type in any number:1\n",
      "If you add 10 to the number, the result is 11.0\n",
      "Type in any number:6\n"
     ]
    },
    {
     "ename": "TypeError",
     "evalue": "unsupported operand type(s) for +: 'int' and 'str'",
     "output_type": "error",
     "traceback": [
      "\u001b[0;31m---------------------------------------------------------------------------\u001b[0m",
      "\u001b[0;31mTypeError\u001b[0m                                 Traceback (most recent call last)",
      "Input \u001b[0;32mIn [80]\u001b[0m, in \u001b[0;36m<cell line: 9>\u001b[0;34m()\u001b[0m\n\u001b[1;32m      6\u001b[0m \u001b[38;5;66;03m# number will be of type str \u001b[39;00m\n\u001b[1;32m      7\u001b[0m \u001b[38;5;66;03m# this code will raise an exception EVEN if the input is numeric\u001b[39;00m\n\u001b[1;32m      8\u001b[0m number \u001b[38;5;241m=\u001b[39m \u001b[38;5;28minput\u001b[39m(\u001b[38;5;124m\"\u001b[39m\u001b[38;5;124mType in any number:\u001b[39m\u001b[38;5;124m\"\u001b[39m)\n\u001b[0;32m----> 9\u001b[0m \u001b[38;5;28mprint\u001b[39m(\u001b[38;5;124m\"\u001b[39m\u001b[38;5;124mIf you add 10 to the number, the result is\u001b[39m\u001b[38;5;124m\"\u001b[39m, \u001b[38;5;241;43m10\u001b[39;49m\u001b[43m \u001b[49m\u001b[38;5;241;43m+\u001b[39;49m\u001b[43m \u001b[49m\u001b[43mnumber\u001b[49m)\n",
      "\u001b[0;31mTypeError\u001b[0m: unsupported operand type(s) for +: 'int' and 'str'"
     ]
    }
   ],
   "source": [
    "# we convert the input to a float\n",
    "# this code will raise an exception if the input is not numeric\n",
    "number = float(input(\"Type in any number:\"))\n",
    "print(\"If you add 10 to the number, the result is\", 10 + number)\n",
    "\n",
    "# number will be of type str \n",
    "# this code will raise an exception EVEN if the input is numeric\n",
    "number = input(\"Type in any number:\")\n",
    "print(\"If you add 10 to the number, the result is\", 10 + number)\n"
   ]
  },
  {
   "cell_type": "code",
   "execution_count": 84,
   "metadata": {},
   "outputs": [
    {
     "name": "stdout",
     "output_type": "stream",
     "text": [
      "age70\n",
      "30\n"
     ]
    }
   ],
   "source": [
    "# ask the user for a text, and print every other letter of the user input\n",
    "\n",
    "#text = input(\"what is the text?\")\n",
    "#print(text[::2])\n",
    "\n",
    "# create a program that asks the age of the user and tells them \n",
    "# how many years will take them to reach 100\n",
    "\n",
    "age = input(\"age\")\n",
    "\n",
    "print(100-int(age))"
   ]
  },
  {
   "cell_type": "markdown",
   "metadata": {
    "id": "3p-MB1-o_nt5"
   },
   "source": [
    "# Modules\n",
    "\n",
    "Modules are script files that can contain variables, functions, and classes. These can be imported and referenced in our own code."
   ]
  },
  {
   "cell_type": "code",
   "execution_count": null,
   "metadata": {
    "id": "VOtEl6RLAEs_"
   },
   "outputs": [],
   "source": [
    "# example: random module\n",
    "import random\n",
    "\n",
    "# first random number between 0 and 9\n",
    "num = random.choice(range(10))\n",
    "print(num)\n",
    "\n",
    "# second random number between 0 and 9\n",
    "num = random.choice(range(10))\n",
    "print(num)"
   ]
  },
  {
   "cell_type": "markdown",
   "metadata": {
    "id": "FKiT1u-VAell"
   },
   "source": [
    "For more concise function calls, the import can be renamed: "
   ]
  },
  {
   "cell_type": "code",
   "execution_count": null,
   "metadata": {
    "id": "OihrlOqyArdX"
   },
   "outputs": [],
   "source": [
    "# example: random module\n",
    "import random as rnd\n",
    "\n",
    "# first random number between 0 and 9\n",
    "num = rnd.choice(range(10))\n",
    "print(num)\n",
    "\n",
    "# second random number between 0 and 9\n",
    "num = rnd.choice(range(10))\n",
    "print(num)"
   ]
  },
  {
   "cell_type": "markdown",
   "metadata": {},
   "source": [
    "### Membership Operators\n",
    "\n",
    "Membership operators are used to test for membership in an order (string, lists, or tuples).\n",
    "\n",
    "The `in` operator checks whether a value is present in a sequence or not (returning `True` or `False`).\n",
    "\n",
    "The `not in` operator is a simple inversion of `in` (returns `False` if the value is present, `True` if it is not)."
   ]
  },
  {
   "cell_type": "code",
   "execution_count": null,
   "metadata": {},
   "outputs": [],
   "source": [
    "# example of the \"in\" operator \n",
    "#test if a given value is present in a list\n",
    "\n",
    "list1=[0,2,4,6,8]\n",
    "\n",
    "print(\"list1:\", list1)\n",
    "print()\n",
    "\n",
    "value = 1\n",
    "\n",
    "print(\"Is value\", value, \"'in' list1?\")\n",
    "print(value in list1)\n",
    "print()\n",
    "\n",
    "# example of the \"not in\" operator \n",
    "#test if a given value is present in a list\n",
    "\n",
    "value = 2\n",
    "\n",
    "print(\"Is value\", value, \"'not in' list1?\")\n",
    "print(value not in list1)"
   ]
  },
  {
   "cell_type": "markdown",
   "metadata": {
    "id": "nh1UKNg_J_pJ"
   },
   "source": [
    "\n",
    "# Flow control\n",
    "\n",
    "If, else, while, for, \n",
    "\n",
    "Indentation (recommended - four spaces)\n"
   ]
  },
  {
   "cell_type": "markdown",
   "metadata": {
    "id": "4_bnNfm7B2dg"
   },
   "source": [
    "## Indentation\n",
    "\n",
    "In order to control flow, block codes after the flow control statements covered in the next sections are indented. \n",
    "\n",
    "Convention says indentation should use four white spaces for indentation.\n",
    "\n",
    "```\n",
    "non-indented code:\n",
    "    line1 of indented code block\n",
    "    line2 of indented code block\n",
    "more non-indented code\n",
    "```\n",
    "\n",
    "The blocks are defined through line indentation:\n",
    "* a block begins when indentation increases\n",
    "* blocks can contain other blocks (further indented)\n",
    "* a block ends when the indentation decreases:\n",
    " * to zero or \n",
    "  * to a containing block’s indentation\n",
    "\n",
    "Spacing should be even and uniform throughout the code. Improper indentation will cause an `IndentationError` or some unexpected results. "
   ]
  },
  {
   "cell_type": "markdown",
   "metadata": {
    "id": "h2aIumOzQvC0"
   },
   "source": [
    "## Conditional statements (selection)\n",
    "\n"
   ]
  },
  {
   "cell_type": "markdown",
   "metadata": {
    "id": "xX095kACupY2"
   },
   "source": [
    "### If statements\n",
    "\n",
    "The `if` statement is used to control the stream of a program. It allows the program to branch (i.e., make a decision) at the time of execution rather than coding. \n",
    "\n",
    "The structure of such statements contains a *condition* followed by a *clause*:\n",
    "* The *condition* evaluates down to a Boolean value (`True` or `False`).\n",
    "* The *clause* is the block of code that will be executed only if the condition evaluates to `True`.\n"
   ]
  },
  {
   "cell_type": "code",
   "execution_count": null,
   "metadata": {
    "id": "zTM03WYQwZtd"
   },
   "outputs": [],
   "source": [
    "\n",
    "# The code block below shows an example of comparison operators working in tandem with \n",
    "# conditional statements to control the flow of a Python program:\n",
    "\n",
    "# This program will evaluate whether each student’s grade is passing or failing. \n",
    "\n",
    "grade = int(input(\"Type in a grade between 0 and 100:\"))\n",
    "\n",
    "if grade >= 65:\t\t\t\t\t# Condition\n",
    "    print(\"Pass\")\t\t# Clause\n",
    "\n",
    "if grade < 65:\n",
    "    print(\"Fail\")\n",
    "\n",
    "\n"
   ]
  },
  {
   "cell_type": "markdown",
   "metadata": {
    "id": "Z8skwwl4MXIK"
   },
   "source": [
    "However, since these options are mutually exclusive, we don't need a second `if` statement and associated condition, but use an `else` statement instead."
   ]
  },
  {
   "cell_type": "markdown",
   "metadata": {
    "id": "yljQ3dAQDkEC"
   },
   "source": [
    "### Else statements\n",
    "\n",
    "The `if` statement's clauses are only executed if the condition evaluates to `True`. The `else` statement is only executed if the initial `if` condition evaluates to False and has no associated condition. In our grade example, we will want output whether the grade is passing or failing."
   ]
  },
  {
   "cell_type": "code",
   "execution_count": null,
   "metadata": {
    "id": "5aknU71NECex"
   },
   "outputs": [],
   "source": [
    "grade = int(input(\"Type in a grade between 0 and 100:\"))\n",
    "\n",
    "if grade >= 65:\n",
    "    print(\"Passing grade\")\n",
    " \n",
    "else:\n",
    "    print(\"Failing grade\")"
   ]
  },
  {
   "cell_type": "markdown",
   "metadata": {
    "id": "KNs_w-I2EOPj"
   },
   "source": [
    "### Elif (Else if) statement\n",
    "\n",
    "The `elif` statement is used in programs that evaluate more than two possible outcomes. Like the `else` statement, `elif` statement always follows an `if` statement and is only executed if the initial `if` condition evaluates to `False`. However, its structure is similar to the `if` statement, since it entails a condition that determines if the associated instructions are executed or not (i.e., if the condition evaluates to `True`).\n",
    "\n",
    "In a bank account program, there can be three different situations:\n",
    "\n",
    "    The balance is below 0\n",
    "    The balance is equal to 0\n",
    "    The balance is above 0\n",
    "\n",
    "The `elif` statement will be placed between the `if` statement and the `else` statement:"
   ]
  },
  {
   "cell_type": "code",
   "execution_count": null,
   "metadata": {
    "id": "Dplaa4Qg7nOu"
   },
   "outputs": [],
   "source": [
    "# balance example\n",
    "\n",
    "balance = float(input(\"What's the balance of the account? Type in positive and negative values\"))\n",
    "\n",
    "if balance < 0:\n",
    "    print(\"Balance is below 0, add funds now or you will be charged a penalty.\")\n",
    " \n",
    "elif balance == 0:\n",
    "    print(\"Balance is equal to 0, add funds soon.\")\n",
    " \n",
    "else:\n",
    "    print(\"Your balance is 0 or above.\")\n",
    "\n",
    "# grade example\n",
    "grade = int(input(\"Type in a grade between 0 and 100:\"))\n",
    "\n",
    "if grade >= 90:\n",
    "    print(\"A grade\")\n",
    " \n",
    "elif grade >=80:\n",
    "    print(\"B grade\")\n",
    " \n",
    "elif grade >=70:\n",
    "    print(\"C grade\")\n",
    " \n",
    "elif grade >= 65:\n",
    "    print(\"D grade\")\n",
    " \n",
    "else:\n",
    "    print(\"Failing grade\")"
   ]
  },
  {
   "cell_type": "markdown",
   "metadata": {
    "id": "VZuboHvuPL2P"
   },
   "source": [
    "## Loops\n",
    "\n",
    "Loops are used to repeat similar tasks."
   ]
  },
  {
   "cell_type": "markdown",
   "metadata": {
    "id": "Wsv2K0j4POYp"
   },
   "source": [
    "### While\n",
    "\n",
    "The `while` loop repeats code execution based on a Boolean condition, as long as the conditional statement evaluates to `True`.\n",
    "\n",
    "The `while` loop is thus similar to an `if` statement - the difference is that the program doesn't simply continue but jumps back to the start of the while statement until the condition is `False`.\n",
    "\n",
    "The structure of a `while` loop is:\n",
    "\n",
    "```\n",
    "while condition:\n",
    "    line 1 of indented code block\n",
    "    line 2 of indented code block\n",
    "    ...\n",
    "```"
   ]
  },
  {
   "cell_type": "code",
   "execution_count": 38,
   "metadata": {
    "id": "USDpQ_tG3j_A"
   },
   "outputs": [
    {
     "name": "stdout",
     "output_type": "stream",
     "text": [
      "What is the password?\n",
      "123\n",
      "you inserted a password, checking...\n",
      "\n",
      "you inserted a password, checking...\n",
      "\n",
      "you inserted a password, checking...\n",
      "\n",
      "What is the password?\n"
     ]
    },
    {
     "ename": "KeyboardInterrupt",
     "evalue": "Interrupted by user",
     "output_type": "error",
     "traceback": [
      "\u001b[0;31m---------------------------------------------------------------------------\u001b[0m",
      "\u001b[0;31mKeyboardInterrupt\u001b[0m                         Traceback (most recent call last)",
      "Input \u001b[0;32mIn [38]\u001b[0m, in \u001b[0;36m<cell line: 5>\u001b[0;34m()\u001b[0m\n\u001b[1;32m      5\u001b[0m \u001b[38;5;28;01mwhile\u001b[39;00m password \u001b[38;5;241m!=\u001b[39m \u001b[38;5;124m'\u001b[39m\u001b[38;5;124mpassword\u001b[39m\u001b[38;5;124m'\u001b[39m:\n\u001b[1;32m      6\u001b[0m     \u001b[38;5;28mprint\u001b[39m(\u001b[38;5;124m'\u001b[39m\u001b[38;5;124mWhat is the password?\u001b[39m\u001b[38;5;124m'\u001b[39m)\n\u001b[0;32m----> 7\u001b[0m     password \u001b[38;5;241m=\u001b[39m \u001b[38;5;28;43minput\u001b[39;49m\u001b[43m(\u001b[49m\u001b[43m)\u001b[49m\n\u001b[1;32m      8\u001b[0m     count \u001b[38;5;241m=\u001b[39m \u001b[38;5;241m0\u001b[39m\n\u001b[1;32m      9\u001b[0m     \u001b[38;5;28;01mwhile\u001b[39;00m count \u001b[38;5;241m!=\u001b[39m \u001b[38;5;241m3\u001b[39m:\n",
      "File \u001b[0;32m/opt/conda/lib/python3.9/site-packages/ipykernel/kernelbase.py:1161\u001b[0m, in \u001b[0;36mKernel.raw_input\u001b[0;34m(self, prompt)\u001b[0m\n\u001b[1;32m   1157\u001b[0m \u001b[38;5;28;01mif\u001b[39;00m \u001b[38;5;129;01mnot\u001b[39;00m \u001b[38;5;28mself\u001b[39m\u001b[38;5;241m.\u001b[39m_allow_stdin:\n\u001b[1;32m   1158\u001b[0m     \u001b[38;5;28;01mraise\u001b[39;00m StdinNotImplementedError(\n\u001b[1;32m   1159\u001b[0m         \u001b[38;5;124m\"\u001b[39m\u001b[38;5;124mraw_input was called, but this frontend does not support input requests.\u001b[39m\u001b[38;5;124m\"\u001b[39m\n\u001b[1;32m   1160\u001b[0m     )\n\u001b[0;32m-> 1161\u001b[0m \u001b[38;5;28;01mreturn\u001b[39;00m \u001b[38;5;28;43mself\u001b[39;49m\u001b[38;5;241;43m.\u001b[39;49m\u001b[43m_input_request\u001b[49m\u001b[43m(\u001b[49m\n\u001b[1;32m   1162\u001b[0m \u001b[43m    \u001b[49m\u001b[38;5;28;43mstr\u001b[39;49m\u001b[43m(\u001b[49m\u001b[43mprompt\u001b[49m\u001b[43m)\u001b[49m\u001b[43m,\u001b[49m\n\u001b[1;32m   1163\u001b[0m \u001b[43m    \u001b[49m\u001b[38;5;28;43mself\u001b[39;49m\u001b[38;5;241;43m.\u001b[39;49m\u001b[43m_parent_ident\u001b[49m\u001b[43m[\u001b[49m\u001b[38;5;124;43m\"\u001b[39;49m\u001b[38;5;124;43mshell\u001b[39;49m\u001b[38;5;124;43m\"\u001b[39;49m\u001b[43m]\u001b[49m\u001b[43m,\u001b[49m\n\u001b[1;32m   1164\u001b[0m \u001b[43m    \u001b[49m\u001b[38;5;28;43mself\u001b[39;49m\u001b[38;5;241;43m.\u001b[39;49m\u001b[43mget_parent\u001b[49m\u001b[43m(\u001b[49m\u001b[38;5;124;43m\"\u001b[39;49m\u001b[38;5;124;43mshell\u001b[39;49m\u001b[38;5;124;43m\"\u001b[39;49m\u001b[43m)\u001b[49m\u001b[43m,\u001b[49m\n\u001b[1;32m   1165\u001b[0m \u001b[43m    \u001b[49m\u001b[43mpassword\u001b[49m\u001b[38;5;241;43m=\u001b[39;49m\u001b[38;5;28;43;01mFalse\u001b[39;49;00m\u001b[43m,\u001b[49m\n\u001b[1;32m   1166\u001b[0m \u001b[43m\u001b[49m\u001b[43m)\u001b[49m\n",
      "File \u001b[0;32m/opt/conda/lib/python3.9/site-packages/ipykernel/kernelbase.py:1205\u001b[0m, in \u001b[0;36mKernel._input_request\u001b[0;34m(self, prompt, ident, parent, password)\u001b[0m\n\u001b[1;32m   1202\u001b[0m             \u001b[38;5;28;01mbreak\u001b[39;00m\n\u001b[1;32m   1203\u001b[0m \u001b[38;5;28;01mexcept\u001b[39;00m \u001b[38;5;167;01mKeyboardInterrupt\u001b[39;00m:\n\u001b[1;32m   1204\u001b[0m     \u001b[38;5;66;03m# re-raise KeyboardInterrupt, to truncate traceback\u001b[39;00m\n\u001b[0;32m-> 1205\u001b[0m     \u001b[38;5;28;01mraise\u001b[39;00m \u001b[38;5;167;01mKeyboardInterrupt\u001b[39;00m(\u001b[38;5;124m\"\u001b[39m\u001b[38;5;124mInterrupted by user\u001b[39m\u001b[38;5;124m\"\u001b[39m) \u001b[38;5;28;01mfrom\u001b[39;00m \u001b[38;5;28mNone\u001b[39m\n\u001b[1;32m   1206\u001b[0m \u001b[38;5;28;01mexcept\u001b[39;00m \u001b[38;5;167;01mException\u001b[39;00m:\n\u001b[1;32m   1207\u001b[0m     \u001b[38;5;28mself\u001b[39m\u001b[38;5;241m.\u001b[39mlog\u001b[38;5;241m.\u001b[39mwarning(\u001b[38;5;124m\"\u001b[39m\u001b[38;5;124mInvalid Message:\u001b[39m\u001b[38;5;124m\"\u001b[39m, exc_info\u001b[38;5;241m=\u001b[39m\u001b[38;5;28;01mTrue\u001b[39;00m)\n",
      "\u001b[0;31mKeyboardInterrupt\u001b[0m: Interrupted by user"
     ]
    }
   ],
   "source": [
    "# this code will repeatedly ask the user for input until \"password\" is typed in\n",
    "\n",
    "password = ''\n",
    "\n",
    "while password != 'password':\n",
    "    print('What is the password?')\n",
    "    password = input()\n",
    "    count = 0\n",
    "    while count != 3:\n",
    "        print(\"you inserted a password, checking...\")\n",
    "        print()\n",
    "        count+=1\n",
    "\n",
    "print('The password is correct')"
   ]
  },
  {
   "cell_type": "code",
   "execution_count": 40,
   "metadata": {},
   "outputs": [
    {
     "name": "stdout",
     "output_type": "stream",
     "text": [
      "how many times?2\n",
      "what's the username?pedro\n",
      "what's the grade?3\n",
      "what's the username?jack\n",
      "what's the grade?4\n"
     ]
    },
    {
     "data": {
      "text/plain": [
       "[{'username': 'pedro', 'grade': 3}, {'username': 'jack', 'grade': 4}]"
      ]
     },
     "execution_count": 40,
     "metadata": {},
     "output_type": "execute_result"
    }
   ],
   "source": [
    "l = list()\n",
    "\n",
    "counter = int(input(\"how many times?\"))\n",
    "\n",
    "while counter != 0:\n",
    "    d = dict()\n",
    "    d[\"username\"] = input(\"what's the username?\")\n",
    "    d[\"grade\"] = int(input(\"what's the grade?\"))\n",
    "    l.append(d)\n",
    "    counter -= 1\n",
    "\n",
    "l"
   ]
  },
  {
   "cell_type": "code",
   "execution_count": null,
   "metadata": {},
   "outputs": [],
   "source": [
    "# create an empty list\n",
    "# use a while loop to add 3 elements to this list"
   ]
  },
  {
   "cell_type": "markdown",
   "metadata": {
    "id": "jmQSAPHL4bTu"
   },
   "source": [
    "The last `print()` statement is outside of the `while` loop, so it will only be displayed after the loop terminates (i.e., the user enters \"password\" as the password).\n",
    "\n",
    "However, if the word \"password\" is not inserted, the program will be stuck in an infinite loop. These occur when a program keeps executing one loop.\n",
    "\n",
    "It is possible to force a loop termination by using the `break` keyword within the loop."
   ]
  },
  {
   "cell_type": "code",
   "execution_count": null,
   "metadata": {
    "id": "8rsFIpxiBHn9"
   },
   "outputs": [],
   "source": [
    "# example: guessing game\n",
    "import random\n",
    "\n",
    "number = random.randint(1, 15)\n",
    "\n",
    "number_of_guesses = 0\n",
    "\n",
    "while number_of_guesses < 5:\n",
    "    print('Guess a number between 1 and 15:')\n",
    "\n",
    "    guess = input()\n",
    "    guess = int(guess)\n",
    "\n",
    "    number_of_guesses += 1\n",
    "\n",
    "    if guess == number:\n",
    "        print(\"You guessed the number!\")\n",
    "        break\n",
    "    elif number_of_guesses < 5:\n",
    "        print(\"Try again.\")\n",
    "    else:\n",
    "        print(\"Game over.\")"
   ]
  },
  {
   "cell_type": "markdown",
   "metadata": {
    "id": "TcxPQYXBPRz8"
   },
   "source": [
    "### For\n",
    "\n",
    "A `for` loop repeats code execution based on a loop variable: they are used when the number of iterations is known before entering the loop, unlike conditionally based `while` loops.\n",
    "\n",
    "The structure of a `for` loop is:\n",
    "\n",
    "```\n",
    "for loop_var in [sequence]:\n",
    "    line 1 of indented code block\n",
    "    line 2 of indented code block\n",
    "    ...\n",
    "```\n"
   ]
  },
  {
   "cell_type": "code",
   "execution_count": 43,
   "metadata": {
    "id": "Udpw3ZVrMHTq"
   },
   "outputs": [
    {
     "name": "stdout",
     "output_type": "stream",
     "text": [
      "simple example using range():\n",
      "1\n",
      "2\n",
      "3\n",
      "4\n",
      "5\n",
      "\n",
      "more complex example using range():\n",
      "100\n",
      "90\n",
      "80\n",
      "70\n",
      "60\n",
      "50\n",
      "40\n",
      "30\n",
      "20\n",
      "10\n"
     ]
    }
   ],
   "source": [
    "print(\"simple example using range():\")\n",
    "for i in range(1,6):\n",
    "   print(i)\n",
    "print()\n",
    "\n",
    "print(\"more complex example using range():\")\n",
    "for i in range(100,0,-10):\n",
    "   print(i)"
   ]
  },
  {
   "cell_type": "markdown",
   "metadata": {
    "id": "d9cdep6rM_fh"
   },
   "source": [
    "The code block will be executed and the loop variable (`i` in our example) will be created and iteratively reassigned until the sequence is over.\n",
    "\n",
    "The `for` loop can be used with different types of sequences. \n"
   ]
  },
  {
   "cell_type": "code",
   "execution_count": 47,
   "metadata": {
    "id": "QCHbvlzKN1Es"
   },
   "outputs": [
    {
     "name": "stdout",
     "output_type": "stream",
     "text": [
      "shark: hammerhead\n",
      "shark: great white\n",
      "shark: dogfish\n",
      "shark: frilled\n",
      "shark: bullhead\n",
      "shark: requiem\n",
      "P\n",
      "y\n",
      "t\n",
      "h\n",
      "o\n",
      "n\n",
      " \n",
      "i\n",
      "s\n",
      " \n",
      "c\n",
      "o\n",
      "o\n",
      "l\n",
      "name Sammy\n",
      "animal shark\n",
      "color blue\n",
      "location ocean\n"
     ]
    }
   ],
   "source": [
    "# using a list (equivalent if we were to use a tuple)\n",
    "sharks = ['hammerhead', 'great white', 'dogfish', 'frilled', 'bullhead', 'requiem']\n",
    "\n",
    "for shark in sharks:\n",
    "   print(\"shark:\", shark)\n",
    "\n",
    "# using a string\n",
    "string_var = 'Python is cool'\n",
    "\n",
    "for letter in string_var:\n",
    "   print(letter)\n",
    "\n",
    "# using a dictionary\n",
    "sammy_shark = {'name': 'Sammy', 'animal': 'shark', 'color': 'blue', 'location': 'ocean'}\n",
    "\n",
    "for key in sammy_shark:\n",
    "   print(key, sammy_shark[key])"
   ]
  },
  {
   "cell_type": "code",
   "execution_count": 53,
   "metadata": {},
   "outputs": [
    {
     "name": "stdout",
     "output_type": "stream",
     "text": [
      "how many users to add? 2\n",
      "name?\n",
      "dfg\n",
      "age?\n",
      "4\n",
      "followers?\n",
      "6\n",
      "name?\n",
      "fgd\n",
      "age?\n",
      "6\n",
      "followers?\n",
      "7\n"
     ]
    },
    {
     "data": {
      "text/plain": [
       "[{'id': 0, 'name': 'dfg', 'age': '4', 'followers': '6'},\n",
       " {'id': 1, 'name': 'fgd', 'age': '6', 'followers': '7'}]"
      ]
     },
     "execution_count": 53,
     "metadata": {},
     "output_type": "execute_result"
    }
   ],
   "source": [
    "# create a list of user attributes: name, age, followers\n",
    "# ask how many users to add (x users)\n",
    "# use the for loop to populate a list with x number of dictionaries \n",
    "# with the user information provided via the input function\n",
    "\n",
    "attributes = [\"id\", \"name\", \"age\", \"followers\"]\n",
    "\n",
    "x = int(input(\"how many users to add? \"))\n",
    "\n",
    "l = list()\n",
    "\n",
    "for i in range(x):\n",
    "    d = {}\n",
    "    d[\"id\"] = i\n",
    "    for a in attributes[1:]:\n",
    "        print(a + \"?\")\n",
    "        d[a] = input()\n",
    "    l.append(d)\n",
    "\n",
    "l"
   ]
  },
  {
   "cell_type": "markdown",
   "metadata": {
    "id": "CiNISOLnA30Y"
   },
   "source": [
    "## Functions\n",
    "\n",
    "A function is a block of instructions that can be easily called and reused, making code more modular.\n",
    "\n",
    "We already covered some built-in functions. Examples:\n",
    "\n",
    "* `print()` outputs an object to the screen\n",
    "* `int()` converts data to integer\n",
    "* `len()` returns the length of an object\n",
    "\n",
    "Function names include parentheses and may also include *arguments*, which are inputs.\n",
    "\n",
    "A function can produce a value using the `return` statement, which will exit a function and *optionally* pass values back to the caller. A `return` statement with no arguments will exit the function and return `None`.\n",
    "\n"
   ]
  },
  {
   "cell_type": "code",
   "execution_count": null,
   "metadata": {
    "id": "OepPr_NlmMAb"
   },
   "outputs": [],
   "source": [
    "# simple example using functions: square number\n",
    "def square_num(x):\n",
    "  return x**2\n",
    "\n",
    "square_num(10)"
   ]
  },
  {
   "cell_type": "code",
   "execution_count": null,
   "metadata": {
    "id": "ReVoLhVCmTzM"
   },
   "outputs": [],
   "source": [
    "# function that takes two arguments and returns the results of some operations\n",
    "def mult_nums(x,y):\n",
    "  output = x*y-x+y**2\n",
    "  return output\n",
    "\n",
    "mult_nums(7,9)"
   ]
  },
  {
   "cell_type": "code",
   "execution_count": null,
   "metadata": {
    "id": "93j_gH9bRN7L"
   },
   "outputs": [],
   "source": [
    "# example: add numbers using two functions\n",
    "\n",
    "# this function asks the user to input three numbers and returns them inside a list\n",
    "def input_numbers():\n",
    "    numbers = []\n",
    "    for i in range(3):\n",
    "        print(i+1, \"/ 3: insert number: \")\n",
    "        n = input()\n",
    "        numbers.append(float(n))\n",
    "    return numbers \n",
    "\n",
    "# this function has a single parameter (numbers) which works as an input\n",
    "# it prints the sum of the numbers that it got from the previous function\n",
    "# it doesn't have a return statement, so it returns nothing \n",
    "def add_numbers(numbers):\n",
    "    print(\"first + second number:\", numbers[0], \"+\", numbers[1], \"=\", numbers[0] + numbers[1])\n",
    "    print(\"first + third number:\", numbers[0], \"+\", numbers[2], \"=\", numbers[0] + numbers[2])\n",
    "    print(\"second + third number:\", numbers[1], \"+\", numbers[2], \"=\", numbers[1] + numbers[2])\n",
    "\n",
    "add_numbers(input_numbers())"
   ]
  },
  {
   "cell_type": "markdown",
   "metadata": {
    "id": "hbFSQYo8c8lU"
   },
   "source": [
    "# List comprehension\n",
    "\n",
    "List comprehensions are a succinct way to create lists based on existing iterables, including strings and tuples.\n",
    "\n",
    "Syntactically, list comprehension contains an expression followed by a `for` clause (which can be followed by additional `for` or `if` clauses.\n",
    "\n",
    "Other methods of iteration, such as `for` loops, can be used to create lists, but list comprehensions can limit the number of lines used in your program.\n",
    "\n",
    "List comprehensions follow the following structure:\n",
    "\n",
    "```\n",
    "[x for x in iterable]\n",
    "```\n",
    "\n",
    "Just like `for` loops, list comprehensions create a variable that assumes the values of the items in iterable variable.\n",
    "\n"
   ]
  },
  {
   "cell_type": "code",
   "execution_count": null,
   "metadata": {
    "id": "3GfZGIcgX-Nj"
   },
   "outputs": [],
   "source": [
    "# example of list comprehension iterating over a string\n",
    "shark_letters = [letter for letter in 'shark']\n",
    "print(shark_letters)\n",
    "\n",
    "# equivalent code using a for loop\n",
    "shark_letters = []\n",
    "\n",
    "for letter in 'shark':\n",
    "    shark_letters.append(letter)\n",
    "\n",
    "print(shark_letters)\n",
    "\n",
    "# example of list comprehension using conditional statements\n",
    "fish_tuple = ('blowfish', 'clownfish', 'catfish', 'octopus')\n",
    "\n",
    "fish_list = [fish for fish in fish_tuple if fish != 'octopus']\n",
    "print(fish_list)\n"
   ]
  },
  {
   "cell_type": "markdown",
   "metadata": {
    "id": "BiEELxjH_uPL"
   },
   "source": [
    "# Further reading\n",
    "\n",
    "https://lwn.net/Articles/881599/"
   ]
  },
  {
   "cell_type": "markdown",
   "metadata": {
    "id": "7ONhXwJShGV5"
   },
   "source": [
    "# Credits\n",
    "\n",
    "This tutorial was partly inspired by the following works (published under CC-BY or as public domain):\n",
    "\n",
    "\n",
    "https://www.digitalocean.com/community/tutorials/how-to-use-variables-in-python-3\n",
    "\n",
    "https://www.digitalocean.com/community/tutorials/python-operators\n",
    "\n",
    "https://www.digitalocean.com/community/tutorials/python-data-types\n",
    "\n",
    "https://www.digitalocean.com/community/tutorials/understanding-data-types-in-python-3 \n",
    "\n",
    "https://www.digitalocean.com/community/tutorials/understanding-boolean-logic-in-python-3\n",
    "\n",
    "https://www.digitalocean.com/community/tutorials/python-string-functions\n",
    "\n",
    "https://www.digitalocean.com/community/tutorials/python-slice-string\n",
    "\n",
    "https://k0nze.dev/posts/python-lists/\n",
    "\n",
    "https://www.educative.io/answers/what-are-control-flow-statements-in-python \n",
    "\n",
    "https://www.w3resource.com/python/built-in-function/range.php\n",
    "\n",
    "https://www.digitalocean.com/community/tutorials/python-set\n",
    "\n",
    "https://www.educative.io/answers/what-is-the-frozenset-method-in-python\n",
    "\n",
    "https://www.digitalocean.com/community/tutorials/understanding-dictionaries-in-python-3\n",
    "\n",
    "https://automatetheboringstuff.com/chapter2/\n",
    "\n",
    "https://www.digitalocean.com/community/tutorials/how-to-construct-while-loops-in-python-3\n",
    "\n",
    "https://www.digitalocean.com/community/tutorials/how-to-construct-for-loops-in-python-3\n",
    "\n",
    "https://www.digitalocean.com/community/tutorials/python-modules\n",
    "\n",
    "https://www.digitalocean.com/community/tutorials/how-to-define-functions-in-python-3\n",
    "\n",
    "https://www.digitalocean.com/community/tutorials/understanding-list-comprehensions-in-python-3\n",
    "\n",
    "https://www.educative.io/answers/what-is-the-not-in-keyword-in-python"
   ]
  }
 ],
 "metadata": {
  "colab": {
   "collapsed_sections": [],
   "provenance": []
  },
  "kernelspec": {
   "display_name": "Python 3 (ipykernel)",
   "language": "python",
   "name": "python3"
  },
  "language_info": {
   "codemirror_mode": {
    "name": "ipython",
    "version": 3
   },
   "file_extension": ".py",
   "mimetype": "text/x-python",
   "name": "python",
   "nbconvert_exporter": "python",
   "pygments_lexer": "ipython3",
   "version": "3.9.12"
  }
 },
 "nbformat": 4,
 "nbformat_minor": 1
}
